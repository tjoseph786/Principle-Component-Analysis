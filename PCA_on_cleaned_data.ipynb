{
  "nbformat": 4,
  "nbformat_minor": 0,
  "metadata": {
    "colab": {
      "name": "PCA_on_cleaned_data.ipynb",
      "provenance": [],
      "authorship_tag": "ABX9TyPCeDts+0c6eG8gTy83d2bl",
      "include_colab_link": true
    },
    "kernelspec": {
      "name": "python3",
      "display_name": "Python 3"
    }
  },
  "cells": [
    {
      "cell_type": "markdown",
      "metadata": {
        "id": "view-in-github",
        "colab_type": "text"
      },
      "source": [
        "<a href=\"https://colab.research.google.com/github/tjoseph786/Principle-Component-Analysis/blob/master/PCA_on_cleaned_data.ipynb\" target=\"_parent\"><img src=\"https://colab.research.google.com/assets/colab-badge.svg\" alt=\"Open In Colab\"/></a>"
      ]
    },
    {
      "cell_type": "markdown",
      "metadata": {
        "id": "ZaVNyJHmc6xu"
      },
      "source": [
        "#Loading fresh data"
      ]
    },
    {
      "cell_type": "code",
      "metadata": {
        "id": "_ItOaHZAiqty"
      },
      "source": [
        "import pandas as pd \n",
        "import numpy as np \n",
        "import matplotlib.pyplot as plt \n",
        "from sklearn.decomposition import PCA \n",
        "from sklearn.preprocessing import StandardScaler\n",
        "%matplotlib inline"
      ],
      "execution_count": null,
      "outputs": []
    },
    {
      "cell_type": "code",
      "metadata": {
        "id": "XRM3QY4PjDLD"
      },
      "source": [
        "df = pd.read_csv('/content/All_CHF_Dataframe.csv')"
      ],
      "execution_count": null,
      "outputs": []
    },
    {
      "cell_type": "code",
      "metadata": {
        "id": "Iilld43vjlvu",
        "outputId": "132e2ea1-47f5-4fe4-9cc4-5ab14341f583",
        "colab": {
          "base_uri": "https://localhost:8080/",
          "height": 241
        }
      },
      "source": [
        "df.head()"
      ],
      "execution_count": null,
      "outputs": [
        {
          "output_type": "execute_result",
          "data": {
            "text/html": [
              "<div>\n",
              "<style scoped>\n",
              "    .dataframe tbody tr th:only-of-type {\n",
              "        vertical-align: middle;\n",
              "    }\n",
              "\n",
              "    .dataframe tbody tr th {\n",
              "        vertical-align: top;\n",
              "    }\n",
              "\n",
              "    .dataframe thead th {\n",
              "        text-align: right;\n",
              "    }\n",
              "</style>\n",
              "<table border=\"1\" class=\"dataframe\">\n",
              "  <thead>\n",
              "    <tr style=\"text-align: right;\">\n",
              "      <th></th>\n",
              "      <th>Unnamed: 0</th>\n",
              "      <th>pulse</th>\n",
              "      <th>respiration</th>\n",
              "      <th>systolic.blood.pressure</th>\n",
              "      <th>diastolic.blood.pressure</th>\n",
              "      <th>map</th>\n",
              "      <th>weight</th>\n",
              "      <th>height</th>\n",
              "      <th>BMI</th>\n",
              "      <th>type.of.heart.failure</th>\n",
              "      <th>NYHA.cardiac.function.classification</th>\n",
              "      <th>Killip.grade</th>\n",
              "      <th>myocardial.infarction</th>\n",
              "      <th>congestive.heart.failure</th>\n",
              "      <th>peripheral.vascular.disease</th>\n",
              "      <th>cerebrovascular.disease</th>\n",
              "      <th>dementia</th>\n",
              "      <th>Chronic.obstructive.pulmonary.disease</th>\n",
              "      <th>connective.tissue.disease</th>\n",
              "      <th>peptic.ulcer.disease</th>\n",
              "      <th>diabetes</th>\n",
              "      <th>moderate.to.severe.chronic.kidney.disease</th>\n",
              "      <th>hemiplegia</th>\n",
              "      <th>leukemia</th>\n",
              "      <th>liver.disease</th>\n",
              "      <th>AIDS</th>\n",
              "      <th>CCI.score</th>\n",
              "      <th>type.II.respiratory.failure</th>\n",
              "      <th>fio2</th>\n",
              "      <th>acute.renal.failure</th>\n",
              "      <th>LVEF</th>\n",
              "      <th>left.ventricular.end.diastolic.diameter.LV</th>\n",
              "      <th>brain.natriuretic.peptide</th>\n",
              "    </tr>\n",
              "  </thead>\n",
              "  <tbody>\n",
              "    <tr>\n",
              "      <th>0</th>\n",
              "      <td>500</td>\n",
              "      <td>80</td>\n",
              "      <td>18</td>\n",
              "      <td>164</td>\n",
              "      <td>85</td>\n",
              "      <td>111.333333</td>\n",
              "      <td>60.0</td>\n",
              "      <td>1.68</td>\n",
              "      <td>21.258503</td>\n",
              "      <td>3</td>\n",
              "      <td>4</td>\n",
              "      <td>3</td>\n",
              "      <td>0</td>\n",
              "      <td>1</td>\n",
              "      <td>0</td>\n",
              "      <td>0</td>\n",
              "      <td>0</td>\n",
              "      <td>0</td>\n",
              "      <td>0</td>\n",
              "      <td>0.0</td>\n",
              "      <td>0</td>\n",
              "      <td>1.0</td>\n",
              "      <td>0</td>\n",
              "      <td>0</td>\n",
              "      <td>0.0</td>\n",
              "      <td>0</td>\n",
              "      <td>2.0</td>\n",
              "      <td>0</td>\n",
              "      <td>40</td>\n",
              "      <td>0</td>\n",
              "      <td>20.0</td>\n",
              "      <td>75.0</td>\n",
              "      <td>3827.40</td>\n",
              "    </tr>\n",
              "    <tr>\n",
              "      <th>1</th>\n",
              "      <td>501</td>\n",
              "      <td>80</td>\n",
              "      <td>21</td>\n",
              "      <td>140</td>\n",
              "      <td>60</td>\n",
              "      <td>86.666667</td>\n",
              "      <td>48.0</td>\n",
              "      <td>1.50</td>\n",
              "      <td>21.333333</td>\n",
              "      <td>3</td>\n",
              "      <td>4</td>\n",
              "      <td>2</td>\n",
              "      <td>0</td>\n",
              "      <td>1</td>\n",
              "      <td>1</td>\n",
              "      <td>0</td>\n",
              "      <td>0</td>\n",
              "      <td>0</td>\n",
              "      <td>0</td>\n",
              "      <td>0.0</td>\n",
              "      <td>0</td>\n",
              "      <td>0.0</td>\n",
              "      <td>0</td>\n",
              "      <td>0</td>\n",
              "      <td>0.0</td>\n",
              "      <td>0</td>\n",
              "      <td>2.0</td>\n",
              "      <td>0</td>\n",
              "      <td>33</td>\n",
              "      <td>0</td>\n",
              "      <td>64.0</td>\n",
              "      <td>44.0</td>\n",
              "      <td>451.00</td>\n",
              "    </tr>\n",
              "    <tr>\n",
              "      <th>2</th>\n",
              "      <td>503</td>\n",
              "      <td>78</td>\n",
              "      <td>20</td>\n",
              "      <td>166</td>\n",
              "      <td>98</td>\n",
              "      <td>120.666667</td>\n",
              "      <td>77.0</td>\n",
              "      <td>1.55</td>\n",
              "      <td>32.049948</td>\n",
              "      <td>3</td>\n",
              "      <td>4</td>\n",
              "      <td>1</td>\n",
              "      <td>0</td>\n",
              "      <td>1</td>\n",
              "      <td>0</td>\n",
              "      <td>0</td>\n",
              "      <td>0</td>\n",
              "      <td>0</td>\n",
              "      <td>0</td>\n",
              "      <td>0.0</td>\n",
              "      <td>1</td>\n",
              "      <td>1.0</td>\n",
              "      <td>0</td>\n",
              "      <td>0</td>\n",
              "      <td>0.0</td>\n",
              "      <td>0</td>\n",
              "      <td>3.0</td>\n",
              "      <td>0</td>\n",
              "      <td>33</td>\n",
              "      <td>0</td>\n",
              "      <td>52.0</td>\n",
              "      <td>39.0</td>\n",
              "      <td>857.46</td>\n",
              "    </tr>\n",
              "    <tr>\n",
              "      <th>3</th>\n",
              "      <td>505</td>\n",
              "      <td>81</td>\n",
              "      <td>19</td>\n",
              "      <td>156</td>\n",
              "      <td>70</td>\n",
              "      <td>98.666667</td>\n",
              "      <td>35.0</td>\n",
              "      <td>1.42</td>\n",
              "      <td>17.357667</td>\n",
              "      <td>3</td>\n",
              "      <td>3</td>\n",
              "      <td>3</td>\n",
              "      <td>0</td>\n",
              "      <td>1</td>\n",
              "      <td>0</td>\n",
              "      <td>0</td>\n",
              "      <td>0</td>\n",
              "      <td>0</td>\n",
              "      <td>0</td>\n",
              "      <td>0.0</td>\n",
              "      <td>1</td>\n",
              "      <td>1.0</td>\n",
              "      <td>0</td>\n",
              "      <td>0</td>\n",
              "      <td>0.0</td>\n",
              "      <td>0</td>\n",
              "      <td>3.0</td>\n",
              "      <td>1</td>\n",
              "      <td>33</td>\n",
              "      <td>0</td>\n",
              "      <td>63.0</td>\n",
              "      <td>41.0</td>\n",
              "      <td>1720.67</td>\n",
              "    </tr>\n",
              "    <tr>\n",
              "      <th>4</th>\n",
              "      <td>506</td>\n",
              "      <td>80</td>\n",
              "      <td>19</td>\n",
              "      <td>110</td>\n",
              "      <td>60</td>\n",
              "      <td>76.666667</td>\n",
              "      <td>50.0</td>\n",
              "      <td>1.60</td>\n",
              "      <td>19.531250</td>\n",
              "      <td>3</td>\n",
              "      <td>4</td>\n",
              "      <td>2</td>\n",
              "      <td>0</td>\n",
              "      <td>1</td>\n",
              "      <td>0</td>\n",
              "      <td>0</td>\n",
              "      <td>0</td>\n",
              "      <td>0</td>\n",
              "      <td>0</td>\n",
              "      <td>0.0</td>\n",
              "      <td>0</td>\n",
              "      <td>0.0</td>\n",
              "      <td>0</td>\n",
              "      <td>0</td>\n",
              "      <td>0.0</td>\n",
              "      <td>0</td>\n",
              "      <td>1.0</td>\n",
              "      <td>0</td>\n",
              "      <td>33</td>\n",
              "      <td>0</td>\n",
              "      <td>66.0</td>\n",
              "      <td>48.0</td>\n",
              "      <td>876.28</td>\n",
              "    </tr>\n",
              "  </tbody>\n",
              "</table>\n",
              "</div>"
            ],
            "text/plain": [
              "   Unnamed: 0  ...  brain.natriuretic.peptide\n",
              "0         500  ...                    3827.40\n",
              "1         501  ...                     451.00\n",
              "2         503  ...                     857.46\n",
              "3         505  ...                    1720.67\n",
              "4         506  ...                     876.28\n",
              "\n",
              "[5 rows x 33 columns]"
            ]
          },
          "metadata": {
            "tags": []
          },
          "execution_count": 3
        }
      ]
    },
    {
      "cell_type": "code",
      "metadata": {
        "id": "-VZGLv0cjv2T",
        "outputId": "f49970d9-55d6-43bc-a78d-8643c393edca",
        "colab": {
          "base_uri": "https://localhost:8080/"
        }
      },
      "source": [
        "df.info()"
      ],
      "execution_count": null,
      "outputs": [
        {
          "output_type": "stream",
          "text": [
            "<class 'pandas.core.frame.DataFrame'>\n",
            "RangeIndex: 587 entries, 0 to 586\n",
            "Data columns (total 33 columns):\n",
            " #   Column                                      Non-Null Count  Dtype  \n",
            "---  ------                                      --------------  -----  \n",
            " 0   Unnamed: 0                                  587 non-null    int64  \n",
            " 1   pulse                                       587 non-null    int64  \n",
            " 2   respiration                                 587 non-null    int64  \n",
            " 3   systolic.blood.pressure                     587 non-null    int64  \n",
            " 4   diastolic.blood.pressure                    587 non-null    int64  \n",
            " 5   map                                         587 non-null    float64\n",
            " 6   weight                                      587 non-null    float64\n",
            " 7   height                                      587 non-null    float64\n",
            " 8   BMI                                         587 non-null    float64\n",
            " 9   type.of.heart.failure                       587 non-null    int64  \n",
            " 10  NYHA.cardiac.function.classification        587 non-null    int64  \n",
            " 11  Killip.grade                                587 non-null    int64  \n",
            " 12  myocardial.infarction                       587 non-null    int64  \n",
            " 13  congestive.heart.failure                    587 non-null    int64  \n",
            " 14  peripheral.vascular.disease                 587 non-null    int64  \n",
            " 15  cerebrovascular.disease                     587 non-null    int64  \n",
            " 16  dementia                                    587 non-null    int64  \n",
            " 17  Chronic.obstructive.pulmonary.disease       587 non-null    int64  \n",
            " 18  connective.tissue.disease                   587 non-null    int64  \n",
            " 19  peptic.ulcer.disease                        587 non-null    float64\n",
            " 20  diabetes                                    587 non-null    int64  \n",
            " 21  moderate.to.severe.chronic.kidney.disease   587 non-null    float64\n",
            " 22  hemiplegia                                  587 non-null    int64  \n",
            " 23  leukemia                                    587 non-null    int64  \n",
            " 24  liver.disease                               587 non-null    float64\n",
            " 25  AIDS                                        587 non-null    int64  \n",
            " 26  CCI.score                                   587 non-null    float64\n",
            " 27  type.II.respiratory.failure                 587 non-null    int64  \n",
            " 28  fio2                                        587 non-null    int64  \n",
            " 29  acute.renal.failure                         587 non-null    int64  \n",
            " 30  LVEF                                        587 non-null    float64\n",
            " 31  left.ventricular.end.diastolic.diameter.LV  587 non-null    float64\n",
            " 32  brain.natriuretic.peptide                   587 non-null    float64\n",
            "dtypes: float64(11), int64(22)\n",
            "memory usage: 151.5 KB\n"
          ],
          "name": "stdout"
        }
      ]
    },
    {
      "cell_type": "code",
      "metadata": {
        "id": "8h0MAl3jj0N7"
      },
      "source": [
        "df_lvef = df\n",
        "df_lvef['LVEF'].clip(40,41,inplace = True)         #Classifying the LVEF in two categories"
      ],
      "execution_count": null,
      "outputs": []
    },
    {
      "cell_type": "code",
      "metadata": {
        "id": "zhtR1NhQkTPh"
      },
      "source": [
        "df_lvef['LVEF'].replace(to_replace=40,value=int(0),inplace=True)\n",
        "df_lvef['LVEF'].replace(to_replace=41,value=int(1),inplace=True)"
      ],
      "execution_count": null,
      "outputs": []
    },
    {
      "cell_type": "code",
      "metadata": {
        "id": "a41b90n3kifX"
      },
      "source": [
        "Y = df_lvef['LVEF'].to_numpy()\n",
        "X = pd.DataFrame(df_lvef.drop(columns = ['liver.disease','AIDS','hemiplegia','leukemia','LVEF','dementia','type.of.heart.failure','weight','height','congestive.heart.failure','peptic.ulcer.disease'])).to_numpy()"
      ],
      "execution_count": null,
      "outputs": []
    },
    {
      "cell_type": "code",
      "metadata": {
        "id": "Y2qyhU0VkwR8"
      },
      "source": [
        "from sklearn import preprocessing\n",
        "from sklearn.ensemble import RandomForestClassifier\n",
        "from sklearn.metrics import accuracy_score\n",
        "from sklearn.metrics import roc_auc_score\n",
        "from sklearn.metrics import recall_score\n",
        "from sklearn.metrics import f1_score\n",
        "from sklearn.model_selection import train_test_split"
      ],
      "execution_count": null,
      "outputs": []
    },
    {
      "cell_type": "code",
      "metadata": {
        "id": "UVh5RmACk47j",
        "outputId": "9165e882-6b67-4ea5-a64d-112eba30c2da",
        "colab": {
          "base_uri": "https://localhost:8080/"
        }
      },
      "source": [
        "Y"
      ],
      "execution_count": null,
      "outputs": [
        {
          "output_type": "execute_result",
          "data": {
            "text/plain": [
              "array([0., 1., 1., 1., 1., 0., 0., 1., 0., 1., 1., 1., 1., 1., 1., 1., 1.,\n",
              "       1., 1., 1., 1., 1., 1., 1., 0., 1., 0., 1., 1., 0., 1., 1., 1., 1.,\n",
              "       1., 1., 1., 1., 0., 0., 1., 0., 0., 1., 1., 1., 1., 0., 1., 1., 1.,\n",
              "       1., 1., 1., 1., 1., 1., 0., 1., 1., 1., 0., 1., 1., 1., 1., 1., 1.,\n",
              "       1., 1., 1., 1., 1., 0., 0., 1., 1., 1., 1., 1., 1., 1., 0., 1., 1.,\n",
              "       0., 1., 0., 1., 1., 1., 1., 1., 1., 1., 1., 0., 1., 1., 1., 1., 1.,\n",
              "       1., 1., 1., 1., 1., 0., 1., 1., 1., 1., 1., 1., 1., 1., 1., 1., 0.,\n",
              "       1., 0., 0., 1., 1., 1., 1., 1., 1., 1., 1., 1., 0., 1., 1., 1., 1.,\n",
              "       1., 1., 1., 1., 1., 1., 1., 1., 0., 1., 1., 1., 0., 0., 1., 0., 1.,\n",
              "       1., 1., 1., 0., 1., 1., 1., 1., 1., 1., 1., 1., 0., 1., 0., 1., 1.,\n",
              "       1., 1., 1., 1., 1., 1., 1., 1., 1., 1., 1., 1., 1., 1., 1., 1., 1.,\n",
              "       0., 1., 1., 1., 0., 0., 1., 0., 0., 1., 0., 0., 1., 0., 1., 1., 1.,\n",
              "       1., 1., 1., 1., 0., 0., 0., 0., 1., 1., 1., 0., 1., 1., 1., 0., 1.,\n",
              "       1., 1., 1., 1., 0., 1., 1., 1., 1., 1., 1., 1., 0., 1., 0., 1., 1.,\n",
              "       1., 1., 1., 0., 1., 1., 1., 1., 1., 1., 0., 1., 1., 1., 1., 1., 0.,\n",
              "       1., 0., 1., 1., 0., 1., 1., 0., 1., 1., 1., 0., 0., 1., 1., 1., 0.,\n",
              "       0., 1., 0., 1., 1., 1., 1., 1., 1., 0., 1., 0., 1., 1., 1., 0., 0.,\n",
              "       1., 1., 0., 1., 1., 1., 1., 1., 0., 1., 1., 1., 1., 1., 1., 0., 0.,\n",
              "       0., 0., 1., 1., 0., 1., 1., 1., 1., 1., 0., 1., 0., 1., 0., 1., 1.,\n",
              "       1., 1., 1., 0., 1., 1., 0., 1., 1., 1., 1., 1., 1., 1., 1., 1., 1.,\n",
              "       1., 1., 1., 1., 1., 0., 1., 1., 1., 1., 0., 1., 1., 1., 0., 1., 1.,\n",
              "       0., 1., 1., 1., 1., 1., 1., 1., 1., 0., 1., 1., 0., 1., 1., 0., 1.,\n",
              "       1., 0., 1., 1., 0., 0., 1., 1., 0., 1., 1., 0., 1., 0., 0., 1., 1.,\n",
              "       1., 1., 0., 1., 0., 1., 1., 1., 1., 1., 1., 1., 1., 0., 0., 0., 1.,\n",
              "       0., 1., 0., 1., 1., 0., 0., 1., 1., 1., 1., 1., 1., 0., 1., 0., 1.,\n",
              "       1., 1., 1., 1., 1., 0., 0., 1., 1., 0., 1., 1., 0., 1., 0., 1., 1.,\n",
              "       1., 1., 1., 1., 1., 1., 1., 1., 1., 1., 0., 0., 1., 1., 0., 1., 0.,\n",
              "       1., 1., 0., 1., 1., 1., 0., 1., 1., 1., 1., 0., 1., 1., 0., 1., 1.,\n",
              "       1., 0., 1., 1., 0., 1., 1., 1., 0., 0., 0., 1., 1., 1., 1., 1., 1.,\n",
              "       1., 0., 1., 1., 1., 1., 1., 0., 1., 1., 1., 1., 1., 0., 0., 0., 1.,\n",
              "       1., 1., 1., 1., 1., 1., 0., 0., 1., 1., 1., 1., 1., 1., 1., 1., 1.,\n",
              "       0., 1., 1., 1., 1., 1., 1., 1., 1., 0., 1., 1., 0., 1., 1., 1., 1.,\n",
              "       0., 1., 1., 1., 1., 1., 1., 1., 1., 0., 0., 1., 1., 1., 1., 0., 1.,\n",
              "       0., 1., 0., 0., 1., 1., 1., 1., 1., 1., 0., 1., 0., 0., 1., 0., 1.,\n",
              "       1., 1., 1., 1., 1., 1., 1., 1., 1.])"
            ]
          },
          "metadata": {
            "tags": []
          },
          "execution_count": 12
        }
      ]
    },
    {
      "cell_type": "code",
      "metadata": {
        "id": "ZDcsqE_ElAB7",
        "outputId": "f0c456d6-e64a-4d4a-bd4c-c7ebc2aa85d0",
        "colab": {
          "base_uri": "https://localhost:8080/"
        }
      },
      "source": [
        "X"
      ],
      "execution_count": null,
      "outputs": [
        {
          "output_type": "execute_result",
          "data": {
            "text/plain": [
              "array([[ 500.  ,   80.  ,   18.  , ...,    0.  ,   75.  , 3827.4 ],\n",
              "       [ 501.  ,   80.  ,   21.  , ...,    0.  ,   44.  ,  451.  ],\n",
              "       [ 503.  ,   78.  ,   20.  , ...,    0.  ,   39.  ,  857.46],\n",
              "       ...,\n",
              "       [1996.  ,   85.  ,   20.  , ...,    0.  ,   56.  , 2174.08],\n",
              "       [2001.  ,  100.  ,   22.  , ...,    0.  ,   46.  ,  531.07],\n",
              "       [2002.  ,  100.  ,   19.  , ...,    0.  ,   51.  , 2290.6 ]])"
            ]
          },
          "metadata": {
            "tags": []
          },
          "execution_count": 13
        }
      ]
    },
    {
      "cell_type": "code",
      "metadata": {
        "id": "l8kGA3DulHv7"
      },
      "source": [
        "from sklearn.preprocessing import MinMaxScaler"
      ],
      "execution_count": null,
      "outputs": []
    },
    {
      "cell_type": "code",
      "metadata": {
        "id": "kEwjPe0rlklm",
        "outputId": "40ce7f3d-48aa-478c-fa9c-b28319871435",
        "colab": {
          "base_uri": "https://localhost:8080/"
        }
      },
      "source": [
        "scaler=StandardScaler()\n",
        "scaler.fit(X)"
      ],
      "execution_count": null,
      "outputs": [
        {
          "output_type": "execute_result",
          "data": {
            "text/plain": [
              "StandardScaler(copy=True, with_mean=True, with_std=True)"
            ]
          },
          "metadata": {
            "tags": []
          },
          "execution_count": 10
        }
      ]
    },
    {
      "cell_type": "code",
      "metadata": {
        "id": "uunkkSN-l7MN"
      },
      "source": [
        "scaled_data=scaler.transform(X)"
      ],
      "execution_count": null,
      "outputs": []
    },
    {
      "cell_type": "code",
      "metadata": {
        "id": "w6jUcpR7l_vR",
        "outputId": "764e900e-9f91-4afb-c186-06fd4119c5e0",
        "colab": {
          "base_uri": "https://localhost:8080/"
        }
      },
      "source": [
        "scaled_data"
      ],
      "execution_count": null,
      "outputs": [
        {
          "output_type": "execute_result",
          "data": {
            "text/plain": [
              "array([[-1.37367607, -0.26819721, -0.65981277, ...,  0.        ,\n",
              "         2.02000873,  1.9353597 ],\n",
              "       [-1.37139421, -0.26819721,  1.1195598 , ...,  0.        ,\n",
              "        -0.84150126, -0.60169215],\n",
              "       [-1.3668305 , -0.36221439,  0.52643561, ...,  0.        ,\n",
              "        -1.30303513, -0.29627511],\n",
              "       ...,\n",
              "       [ 2.03997741, -0.03315427,  0.52643561, ...,  0.        ,\n",
              "         0.26618003,  0.69304286],\n",
              "       [ 2.05138668,  0.67197455,  1.71268399, ...,  0.        ,\n",
              "        -0.65688771, -0.54152697],\n",
              "       [ 2.05366854,  0.67197455, -0.06668858, ...,  0.        ,\n",
              "        -0.19535384,  0.78059685]])"
            ]
          },
          "metadata": {
            "tags": []
          },
          "execution_count": 12
        }
      ]
    },
    {
      "cell_type": "code",
      "metadata": {
        "id": "RgBRmsUrmFLJ"
      },
      "source": [
        "pca=PCA(n_components=10)"
      ],
      "execution_count": null,
      "outputs": []
    },
    {
      "cell_type": "code",
      "metadata": {
        "id": "GZZg2eU8mYbp",
        "outputId": "ae35df51-2532-4c39-8e61-1bdcfbdc950a",
        "colab": {
          "base_uri": "https://localhost:8080/"
        }
      },
      "source": [
        "pca.fit(scaled_data)"
      ],
      "execution_count": null,
      "outputs": [
        {
          "output_type": "execute_result",
          "data": {
            "text/plain": [
              "PCA(copy=True, iterated_power='auto', n_components=10, random_state=None,\n",
              "    svd_solver='auto', tol=0.0, whiten=False)"
            ]
          },
          "metadata": {
            "tags": []
          },
          "execution_count": 20
        }
      ]
    },
    {
      "cell_type": "code",
      "metadata": {
        "id": "rZYWTxcvmc51"
      },
      "source": [
        "x_pca=pca.transform(scaled_data)"
      ],
      "execution_count": null,
      "outputs": []
    },
    {
      "cell_type": "code",
      "metadata": {
        "id": "g_PQz0VemiF6",
        "outputId": "fd791de5-6f79-4b7c-c9de-b8a74ec6c0f5",
        "colab": {
          "base_uri": "https://localhost:8080/"
        }
      },
      "source": [
        "scaled_data.shape"
      ],
      "execution_count": null,
      "outputs": [
        {
          "output_type": "execute_result",
          "data": {
            "text/plain": [
              "(587, 22)"
            ]
          },
          "metadata": {
            "tags": []
          },
          "execution_count": 22
        }
      ]
    },
    {
      "cell_type": "code",
      "metadata": {
        "id": "0WpVd8Ftml4O",
        "outputId": "fe468ad9-3058-4e62-8a41-2a820a7a593d",
        "colab": {
          "base_uri": "https://localhost:8080/"
        }
      },
      "source": [
        "x_pca.shape"
      ],
      "execution_count": null,
      "outputs": [
        {
          "output_type": "execute_result",
          "data": {
            "text/plain": [
              "(587, 10)"
            ]
          },
          "metadata": {
            "tags": []
          },
          "execution_count": 23
        }
      ]
    },
    {
      "cell_type": "code",
      "metadata": {
        "id": "4QYJRDLbmrOQ",
        "outputId": "cbef3d17-1f54-48a7-947c-195a11817403",
        "colab": {
          "base_uri": "https://localhost:8080/"
        }
      },
      "source": [
        "scaled_data"
      ],
      "execution_count": null,
      "outputs": [
        {
          "output_type": "execute_result",
          "data": {
            "text/plain": [
              "array([[-1.37367607, -0.26819721, -0.65981277, ...,  0.        ,\n",
              "         2.02000873,  1.9353597 ],\n",
              "       [-1.37139421, -0.26819721,  1.1195598 , ...,  0.        ,\n",
              "        -0.84150126, -0.60169215],\n",
              "       [-1.3668305 , -0.36221439,  0.52643561, ...,  0.        ,\n",
              "        -1.30303513, -0.29627511],\n",
              "       ...,\n",
              "       [ 2.03997741, -0.03315427,  0.52643561, ...,  0.        ,\n",
              "         0.26618003,  0.69304286],\n",
              "       [ 2.05138668,  0.67197455,  1.71268399, ...,  0.        ,\n",
              "        -0.65688771, -0.54152697],\n",
              "       [ 2.05366854,  0.67197455, -0.06668858, ...,  0.        ,\n",
              "        -0.19535384,  0.78059685]])"
            ]
          },
          "metadata": {
            "tags": []
          },
          "execution_count": 24
        }
      ]
    },
    {
      "cell_type": "code",
      "metadata": {
        "id": "yBCxTG0Xm0qM",
        "outputId": "ee782a0a-d5f0-4afe-8f04-6d7952aba4f0",
        "colab": {
          "base_uri": "https://localhost:8080/"
        }
      },
      "source": [
        "x_pca"
      ],
      "execution_count": null,
      "outputs": [
        {
          "output_type": "execute_result",
          "data": {
            "text/plain": [
              "array([[ 0.85461432,  1.96938987,  1.87532812, ..., -0.67309386,\n",
              "         0.28548431, -0.92780022],\n",
              "       [-0.29851603,  0.23505012, -0.51020073, ..., -2.75889182,\n",
              "         1.83922918, -0.26449964],\n",
              "       [ 3.07863813,  0.76149721, -1.65657095, ...,  0.33501136,\n",
              "        -0.25633126,  0.45991111],\n",
              "       ...,\n",
              "       [-2.22813075,  1.31756381, -3.25885908, ...,  1.81222299,\n",
              "         0.47865431, -0.28682519],\n",
              "       [-0.30877378, -0.66498225,  0.31575311, ...,  1.24769716,\n",
              "        -0.35706035, -0.55544753],\n",
              "       [ 1.14034157, -0.76403153,  0.62616509, ...,  0.58211273,\n",
              "        -0.25411274, -1.24254108]])"
            ]
          },
          "metadata": {
            "tags": []
          },
          "execution_count": 25
        }
      ]
    },
    {
      "cell_type": "code",
      "metadata": {
        "id": "mfJZnpB9nGAy"
      },
      "source": [
        "pca = PCA(n_components=11) "
      ],
      "execution_count": null,
      "outputs": []
    },
    {
      "cell_type": "code",
      "metadata": {
        "id": "r2wgWN63nVhu"
      },
      "source": [
        "principalComponents = pca.fit_transform(scaled_data) \n",
        "principalDf = pd.DataFrame(data = principalComponents , columns = ['principal component 1', 'principal component 2', 'principal component 3', 'principal component 4', 'principal component 5', 'principal component 6', 'principal component 7', 'principal component 8', 'principal component 9', 'principal component 10', 'principal component 11'])"
      ],
      "execution_count": null,
      "outputs": []
    },
    {
      "cell_type": "markdown",
      "metadata": {
        "id": "XIH0ElbhoPLk"
      },
      "source": [
        "#principalDf =  11 pca"
      ]
    },
    {
      "cell_type": "code",
      "metadata": {
        "id": "O1GWDURNn46y",
        "outputId": "faac1f65-f09e-4739-8637-9baefdf5cd64",
        "colab": {
          "base_uri": "https://localhost:8080/",
          "height": 258
        }
      },
      "source": [
        "principalDf.head(5) # prints the top 5 rows"
      ],
      "execution_count": null,
      "outputs": [
        {
          "output_type": "execute_result",
          "data": {
            "text/html": [
              "<div>\n",
              "<style scoped>\n",
              "    .dataframe tbody tr th:only-of-type {\n",
              "        vertical-align: middle;\n",
              "    }\n",
              "\n",
              "    .dataframe tbody tr th {\n",
              "        vertical-align: top;\n",
              "    }\n",
              "\n",
              "    .dataframe thead th {\n",
              "        text-align: right;\n",
              "    }\n",
              "</style>\n",
              "<table border=\"1\" class=\"dataframe\">\n",
              "  <thead>\n",
              "    <tr style=\"text-align: right;\">\n",
              "      <th></th>\n",
              "      <th>principal component 1</th>\n",
              "      <th>principal component 2</th>\n",
              "      <th>principal component 3</th>\n",
              "      <th>principal component 4</th>\n",
              "      <th>principal component 5</th>\n",
              "      <th>principal component 6</th>\n",
              "      <th>principal component 7</th>\n",
              "      <th>principal component 8</th>\n",
              "      <th>principal component 9</th>\n",
              "      <th>principal component 10</th>\n",
              "      <th>principal component 11</th>\n",
              "    </tr>\n",
              "  </thead>\n",
              "  <tbody>\n",
              "    <tr>\n",
              "      <th>0</th>\n",
              "      <td>0.854614</td>\n",
              "      <td>1.969390</td>\n",
              "      <td>1.875328</td>\n",
              "      <td>-2.086394</td>\n",
              "      <td>-0.897176</td>\n",
              "      <td>-0.102411</td>\n",
              "      <td>2.159508</td>\n",
              "      <td>-0.673094</td>\n",
              "      <td>0.285484</td>\n",
              "      <td>-0.927800</td>\n",
              "      <td>-0.210439</td>\n",
              "    </tr>\n",
              "    <tr>\n",
              "      <th>1</th>\n",
              "      <td>-0.298516</td>\n",
              "      <td>0.235050</td>\n",
              "      <td>-0.510201</td>\n",
              "      <td>1.391119</td>\n",
              "      <td>-0.685964</td>\n",
              "      <td>-1.123168</td>\n",
              "      <td>-0.661280</td>\n",
              "      <td>-2.758892</td>\n",
              "      <td>1.839229</td>\n",
              "      <td>-0.264500</td>\n",
              "      <td>1.648929</td>\n",
              "    </tr>\n",
              "    <tr>\n",
              "      <th>2</th>\n",
              "      <td>3.078638</td>\n",
              "      <td>0.761497</td>\n",
              "      <td>-1.656571</td>\n",
              "      <td>-0.993384</td>\n",
              "      <td>-1.891366</td>\n",
              "      <td>2.045309</td>\n",
              "      <td>0.541368</td>\n",
              "      <td>0.335011</td>\n",
              "      <td>-0.256331</td>\n",
              "      <td>0.459911</td>\n",
              "      <td>0.260511</td>\n",
              "    </tr>\n",
              "    <tr>\n",
              "      <th>3</th>\n",
              "      <td>0.453815</td>\n",
              "      <td>1.908074</td>\n",
              "      <td>-0.703945</td>\n",
              "      <td>2.302706</td>\n",
              "      <td>-2.495556</td>\n",
              "      <td>0.838159</td>\n",
              "      <td>2.064699</td>\n",
              "      <td>-0.347785</td>\n",
              "      <td>-0.632114</td>\n",
              "      <td>-0.055184</td>\n",
              "      <td>1.106446</td>\n",
              "    </tr>\n",
              "    <tr>\n",
              "      <th>4</th>\n",
              "      <td>-1.979416</td>\n",
              "      <td>-0.640785</td>\n",
              "      <td>1.055068</td>\n",
              "      <td>0.400676</td>\n",
              "      <td>-0.996482</td>\n",
              "      <td>-0.663600</td>\n",
              "      <td>0.127239</td>\n",
              "      <td>-0.564725</td>\n",
              "      <td>0.143183</td>\n",
              "      <td>1.034252</td>\n",
              "      <td>0.701693</td>\n",
              "    </tr>\n",
              "  </tbody>\n",
              "</table>\n",
              "</div>"
            ],
            "text/plain": [
              "   principal component 1  ...  principal component 11\n",
              "0               0.854614  ...               -0.210439\n",
              "1              -0.298516  ...                1.648929\n",
              "2               3.078638  ...                0.260511\n",
              "3               0.453815  ...                1.106446\n",
              "4              -1.979416  ...                0.701693\n",
              "\n",
              "[5 rows x 11 columns]"
            ]
          },
          "metadata": {
            "tags": []
          },
          "execution_count": 30
        }
      ]
    },
    {
      "cell_type": "markdown",
      "metadata": {
        "id": "XvCcQbeLoaTg"
      },
      "source": [
        "#Test on pca 11"
      ]
    },
    {
      "cell_type": "code",
      "metadata": {
        "id": "Cdr-d89Bn9tE"
      },
      "source": [
        "Y = Y.astype(int)\n",
        "Y = Y.reshape(-1)"
      ],
      "execution_count": null,
      "outputs": []
    },
    {
      "cell_type": "code",
      "metadata": {
        "id": "zxtXxR68ooR9"
      },
      "source": [
        "x_train, x_test, y_train, y_test = train_test_split(principalDf,Y,test_size = 0.148)"
      ],
      "execution_count": null,
      "outputs": []
    },
    {
      "cell_type": "code",
      "metadata": {
        "id": "j-8cQkSXoyxh"
      },
      "source": [
        "scaler = preprocessing.StandardScaler().fit(x_train)\n",
        "x_train = scaler.transform(x_train)\n",
        "scaler = preprocessing.StandardScaler().fit(x_test)\n",
        "x_test = scaler.transform(x_test)"
      ],
      "execution_count": null,
      "outputs": []
    },
    {
      "cell_type": "markdown",
      "metadata": {
        "id": "MM8Vs4olo-LW"
      },
      "source": [
        "###RandomizedSearchCV"
      ]
    },
    {
      "cell_type": "code",
      "metadata": {
        "id": "1U_lQ-6ho6nS"
      },
      "source": [
        "from sklearn.model_selection import RandomizedSearchCV# Number of trees in random forest\n",
        "n_estimators = [int(x) for x in np.linspace(start = 500, stop = 2000, num = 10)]\n",
        "# Number of features to consider at every split\n",
        "max_features = ['auto', 'sqrt']\n",
        "# Maximum number of levels in tree\n",
        "max_depth = [int(x) for x in np.linspace(10, 110, num = 11)]\n",
        "max_depth.append(None)\n",
        "# Minimum number of samples required to split a node\n",
        "min_samples_split = [2, 3,5]\n",
        "# Minimum number of samples required at each leaf node\n",
        "min_samples_leaf = [ 2, 3, 4]\n",
        "# Method of selecting samples for training each tree\n",
        "bootstrap = [True, False]# Create the random grid\n",
        "random_grid = {'n_estimators': n_estimators,\n",
        "               'max_features': max_features,\n",
        "               'max_depth': max_depth,\n",
        "               'min_samples_split': min_samples_split,\n",
        "               'min_samples_leaf': min_samples_leaf,\n",
        "               'bootstrap': bootstrap}"
      ],
      "execution_count": null,
      "outputs": []
    },
    {
      "cell_type": "code",
      "metadata": {
        "id": "O9pQFoVfpDCY",
        "outputId": "32cc2b3c-a469-471e-8589-21ae8d4a1e8b",
        "colab": {
          "base_uri": "https://localhost:8080/"
        }
      },
      "source": [
        "clf = RandomForestClassifier()\n",
        "rf_rscv = RandomizedSearchCV(estimator=clf,param_distributions = random_grid,n_iter = 100,cv = 5)\n",
        "rf_rscv.fit(x_train,y_train)"
      ],
      "execution_count": null,
      "outputs": [
        {
          "output_type": "execute_result",
          "data": {
            "text/plain": [
              "RandomizedSearchCV(cv=5, error_score=nan,\n",
              "                   estimator=RandomForestClassifier(bootstrap=True,\n",
              "                                                    ccp_alpha=0.0,\n",
              "                                                    class_weight=None,\n",
              "                                                    criterion='gini',\n",
              "                                                    max_depth=None,\n",
              "                                                    max_features='auto',\n",
              "                                                    max_leaf_nodes=None,\n",
              "                                                    max_samples=None,\n",
              "                                                    min_impurity_decrease=0.0,\n",
              "                                                    min_impurity_split=None,\n",
              "                                                    min_samples_leaf=1,\n",
              "                                                    min_samples_split=2,\n",
              "                                                    min_weight_fraction_leaf=0.0,\n",
              "                                                    n_estimators=100,\n",
              "                                                    n_jobs...\n",
              "                   param_distributions={'bootstrap': [True, False],\n",
              "                                        'max_depth': [10, 20, 30, 40, 50, 60,\n",
              "                                                      70, 80, 90, 100, 110,\n",
              "                                                      None],\n",
              "                                        'max_features': ['auto', 'sqrt'],\n",
              "                                        'min_samples_leaf': [2, 3, 4],\n",
              "                                        'min_samples_split': [2, 3, 5],\n",
              "                                        'n_estimators': [500, 666, 833, 1000,\n",
              "                                                         1166, 1333, 1500, 1666,\n",
              "                                                         1833, 2000]},\n",
              "                   pre_dispatch='2*n_jobs', random_state=None, refit=True,\n",
              "                   return_train_score=False, scoring=None, verbose=0)"
            ]
          },
          "metadata": {
            "tags": []
          },
          "execution_count": 36
        }
      ]
    },
    {
      "cell_type": "code",
      "metadata": {
        "id": "8OofCc1cpIoH",
        "outputId": "200bcd36-ceaa-4828-95a7-c095af8d3446",
        "colab": {
          "base_uri": "https://localhost:8080/"
        }
      },
      "source": [
        "rf_rscv.best_params_"
      ],
      "execution_count": null,
      "outputs": [
        {
          "output_type": "execute_result",
          "data": {
            "text/plain": [
              "{'bootstrap': True,\n",
              " 'max_depth': 90,\n",
              " 'max_features': 'auto',\n",
              " 'min_samples_leaf': 4,\n",
              " 'min_samples_split': 5,\n",
              " 'n_estimators': 833}"
            ]
          },
          "metadata": {
            "tags": []
          },
          "execution_count": 37
        }
      ]
    },
    {
      "cell_type": "markdown",
      "metadata": {
        "id": "I675lu39uEk4"
      },
      "source": [
        "###Grid search cv"
      ]
    },
    {
      "cell_type": "code",
      "metadata": {
        "id": "nJYVpk8ht6nb",
        "outputId": "2a6ef45c-d7c4-4f66-accc-c0770d677d06",
        "colab": {
          "base_uri": "https://localhost:8080/"
        }
      },
      "source": [
        "from sklearn.model_selection import GridSearchCV# Create the parameter grid based on the results of random search \n",
        "param_grid = {\n",
        "    'bootstrap': [True],\n",
        "    'max_depth': [50, 60,70,80],\n",
        "    'max_features': ['auto','sqrt'],\n",
        "    'min_samples_leaf': [2,3,4],\n",
        "    'min_samples_split': [2,3,4],\n",
        "    'n_estimators': [900,1000,1333,1400]\n",
        "}\n",
        "rf = RandomForestClassifier()# Instantiate the grid search model\n",
        "grid_search = GridSearchCV(estimator = rf, param_grid = param_grid, \n",
        "                          cv = 3, n_jobs = -1, verbose = 2)\n",
        "grid_search.fit(x_train,y_train)"
      ],
      "execution_count": null,
      "outputs": [
        {
          "output_type": "stream",
          "text": [
            "Fitting 3 folds for each of 288 candidates, totalling 864 fits\n"
          ],
          "name": "stdout"
        },
        {
          "output_type": "stream",
          "text": [
            "[Parallel(n_jobs=-1)]: Using backend LokyBackend with 2 concurrent workers.\n",
            "[Parallel(n_jobs=-1)]: Done  37 tasks      | elapsed:  1.1min\n",
            "[Parallel(n_jobs=-1)]: Done 158 tasks      | elapsed:  4.4min\n",
            "[Parallel(n_jobs=-1)]: Done 361 tasks      | elapsed: 10.0min\n",
            "[Parallel(n_jobs=-1)]: Done 644 tasks      | elapsed: 17.8min\n",
            "[Parallel(n_jobs=-1)]: Done 864 out of 864 | elapsed: 23.8min finished\n"
          ],
          "name": "stderr"
        },
        {
          "output_type": "execute_result",
          "data": {
            "text/plain": [
              "GridSearchCV(cv=3, error_score=nan,\n",
              "             estimator=RandomForestClassifier(bootstrap=True, ccp_alpha=0.0,\n",
              "                                              class_weight=None,\n",
              "                                              criterion='gini', max_depth=None,\n",
              "                                              max_features='auto',\n",
              "                                              max_leaf_nodes=None,\n",
              "                                              max_samples=None,\n",
              "                                              min_impurity_decrease=0.0,\n",
              "                                              min_impurity_split=None,\n",
              "                                              min_samples_leaf=1,\n",
              "                                              min_samples_split=2,\n",
              "                                              min_weight_fraction_leaf=0.0,\n",
              "                                              n_estimators=100, n_jobs=None,\n",
              "                                              oob_score=False,\n",
              "                                              random_state=None, verbose=0,\n",
              "                                              warm_start=False),\n",
              "             iid='deprecated', n_jobs=-1,\n",
              "             param_grid={'bootstrap': [True], 'max_depth': [50, 60, 70, 80],\n",
              "                         'max_features': ['auto', 'sqrt'],\n",
              "                         'min_samples_leaf': [2, 3, 4],\n",
              "                         'min_samples_split': [2, 3, 4],\n",
              "                         'n_estimators': [900, 1000, 1333, 1400]},\n",
              "             pre_dispatch='2*n_jobs', refit=True, return_train_score=False,\n",
              "             scoring=None, verbose=2)"
            ]
          },
          "metadata": {
            "tags": []
          },
          "execution_count": 38
        }
      ]
    },
    {
      "cell_type": "code",
      "metadata": {
        "id": "CBL3ppOwuMTF",
        "outputId": "1ff8cfb5-573a-4feb-8b61-a8d559c26f84",
        "colab": {
          "base_uri": "https://localhost:8080/"
        }
      },
      "source": [
        "grid_search.best_params_"
      ],
      "execution_count": null,
      "outputs": [
        {
          "output_type": "execute_result",
          "data": {
            "text/plain": [
              "{'bootstrap': True,\n",
              " 'max_depth': 60,\n",
              " 'max_features': 'sqrt',\n",
              " 'min_samples_leaf': 4,\n",
              " 'min_samples_split': 3,\n",
              " 'n_estimators': 1000}"
            ]
          },
          "metadata": {
            "tags": []
          },
          "execution_count": 39
        }
      ]
    },
    {
      "cell_type": "code",
      "metadata": {
        "id": "Poh1lH7p3MiF",
        "outputId": "e12ecf1c-bdfc-4b0a-a11e-d23a195a1ae9",
        "colab": {
          "base_uri": "https://localhost:8080/"
        }
      },
      "source": [
        "clf = RandomForestClassifier(n_estimators=1333,bootstrap=True,max_depth=80, max_features='sqrt', min_samples_split= 4, min_samples_leaf=3).fit(x_train,y_train)\n",
        "clf.fit(x_train,y_train)\n",
        "y_predicted = clf.predict(x_test)\n",
        "y_train_pred = clf.predict(x_train)\n",
        "\n",
        "pred_prob = clf.predict_proba(x_test)\n",
        "print(\"Accuracy Test %0.2f\" %(accuracy_score(y_test,y_predicted)*100))\n",
        "print(\"Accuracy Train %0.2f\" %(accuracy_score(y_train,y_train_pred)*100))\n",
        "print(\"ROC-AUC Score %0.2f\" %(roc_auc_score(y_test,pred_prob[:,1])*100))\n",
        "print(\"Recall Score %0.2f\" %(recall_score(y_test,y_predicted)*100))"
      ],
      "execution_count": null,
      "outputs": [
        {
          "output_type": "stream",
          "text": [
            "Accuracy Test 80.46\n",
            "Accuracy Train 96.20\n",
            "ROC-AUC Score 84.06\n",
            "Recall Score 92.65\n"
          ],
          "name": "stdout"
        }
      ]
    },
    {
      "cell_type": "code",
      "metadata": {
        "id": "qNuM4G0t3SGy",
        "outputId": "6b6ee78f-740c-49d4-b235-9c45f57e22ff",
        "colab": {
          "base_uri": "https://localhost:8080/"
        }
      },
      "source": [
        "from xgboost import XGBRFClassifier\n",
        "xgb = XGBRFClassifier()\n",
        "xgb.fit(x_train,y_train)\n",
        "y_predicted = xgb.predict(x_test)\n",
        "y_train_pred = xgb.predict(x_train)\n",
        "\n",
        "pred_prob = xgb.predict_proba(x_test)\n",
        "print(\"Accuracy Test %0.2f\" %(accuracy_score(y_test,y_predicted)*100))\n",
        "print(\"Accuracy Train %0.2f\" %(accuracy_score(y_train,y_train_pred)*100))\n",
        "print(\"ROC-AUC Score %0.2f\" %(roc_auc_score(y_test,pred_prob[:,1])*100))\n",
        "print(\"Recall Score %0.2f\" %(recall_score(y_test,y_predicted)*100))"
      ],
      "execution_count": null,
      "outputs": [
        {
          "output_type": "stream",
          "text": [
            "Accuracy Test 79.31\n",
            "Accuracy Train 84.20\n",
            "ROC-AUC Score 81.73\n",
            "Recall Score 92.65\n"
          ],
          "name": "stdout"
        }
      ]
    },
    {
      "cell_type": "code",
      "metadata": {
        "id": "M4BWNP3P4Kle",
        "outputId": "688a5233-4667-4464-97a4-47c1a2144bef",
        "colab": {
          "base_uri": "https://localhost:8080/"
        }
      },
      "source": [
        "from lightgbm import LGBMClassifier\n",
        "lgb = LGBMClassifier()\n",
        "lgb.fit(x_train,y_train)\n",
        "y_predicted = lgb.predict(x_test)\n",
        "y_train_pred = lgb.predict(x_train)\n",
        "\n",
        "pred_prob = xgb.predict_proba(x_test)\n",
        "print(\"Accuracy Test %0.2f\" %(accuracy_score(y_test,y_predicted)*100))\n",
        "print(\"Accuracy Train %0.2f\" %(accuracy_score(y_train,y_train_pred)*100))\n",
        "print(\"ROC-AUC Score %0.2f\" %(roc_auc_score(y_test,pred_prob[:,1])*100))\n",
        "print(\"Recall Score %0.2f\" %(recall_score(y_test,y_predicted)*100))"
      ],
      "execution_count": null,
      "outputs": [
        {
          "output_type": "stream",
          "text": [
            "Accuracy Test 80.46\n",
            "Accuracy Train 100.00\n",
            "ROC-AUC Score 81.73\n",
            "Recall Score 91.18\n"
          ],
          "name": "stdout"
        }
      ]
    },
    {
      "cell_type": "code",
      "metadata": {
        "id": "6StcIy2743Jq"
      },
      "source": [
        "!pip install catboost"
      ],
      "execution_count": null,
      "outputs": []
    },
    {
      "cell_type": "code",
      "metadata": {
        "id": "jw7OrFyH5dx0"
      },
      "source": [
        "from catboost import CatBoostClassifier\n",
        "cgb = CatBoostClassifier(iterations=10000)\n",
        "cgb.fit(x_train,y_train)\n",
        "y_predicted = cgb.predict(x_test)\n",
        "y_train_pred = cgb.predict(x_train)"
      ],
      "execution_count": null,
      "outputs": []
    },
    {
      "cell_type": "code",
      "metadata": {
        "id": "70ESv5Z25m4J",
        "outputId": "05f73c86-6628-4cd8-aae1-149aae5378a9",
        "colab": {
          "base_uri": "https://localhost:8080/"
        }
      },
      "source": [
        "pred_prob = cgb.predict_proba(x_test)\n",
        "print(\"Accuracy Test %0.2f\" %(accuracy_score(y_test,y_predicted)*100))\n",
        "print(\"Accuracy Train %0.2f\" %(accuracy_score(y_train,y_train_pred)*100))\n",
        "print(\"ROC-AUC Score %0.2f\" %(roc_auc_score(y_test,pred_prob[:,1])*100))\n",
        "print(\"Recall Score %0.2f\" %(recall_score(y_test,y_predicted)*100))"
      ],
      "execution_count": null,
      "outputs": [
        {
          "output_type": "stream",
          "text": [
            "Accuracy Test 82.76\n",
            "Accuracy Train 100.00\n",
            "ROC-AUC Score 82.24\n",
            "Recall Score 92.54\n"
          ],
          "name": "stdout"
        }
      ]
    },
    {
      "cell_type": "code",
      "metadata": {
        "id": "Hw_kO-gP56sG",
        "outputId": "3742a7cc-ce06-4a37-f03d-def3a22b8be6",
        "colab": {
          "base_uri": "https://localhost:8080/"
        }
      },
      "source": [
        "df_xtrain = pd.DataFrame(x_train)\n",
        "df_xtrain.shape"
      ],
      "execution_count": null,
      "outputs": [
        {
          "output_type": "execute_result",
          "data": {
            "text/plain": [
              "(500, 11)"
            ]
          },
          "metadata": {
            "tags": []
          },
          "execution_count": 46
        }
      ]
    },
    {
      "cell_type": "code",
      "metadata": {
        "id": "Y2pxVk-E6FIh",
        "outputId": "22dd904a-1f32-42c7-d447-7778a60baccb",
        "colab": {
          "base_uri": "https://localhost:8080/",
          "height": 327
        }
      },
      "source": [
        "plt.style.use('ggplot')\n",
        "fig, axes = plt.subplots(nrows=1, ncols=2, figsize=(15, 5))\n",
        "axes[0].scatter(df_xtrain.iloc[:,9],df_xtrain.iloc[:,4],c=y_train_pred,cmap='brg')\n",
        "axes[1].scatter(df_xtrain.iloc[:,9],df_xtrain.iloc[:,4],c=y_train,cmap='brg')\n",
        "axes[0].title.set_text(\"Predictions\")\n",
        "axes[1].title.set_text(\"Actual Plot\")\n",
        "fig.tight_layout()"
      ],
      "execution_count": null,
      "outputs": [
        {
          "output_type": "display_data",
          "data": {
            "image/png": "[encoded data removed]",
            "text/plain": [
              "<Figure size 1080x360 with 2 Axes>"
            ]
          },
          "metadata": {
            "tags": []
          }
        }
      ]
    },
    {
      "cell_type": "markdown",
      "metadata": {
        "id": "OH04QzM98cTN"
      },
      "source": [
        "#For pca 5"
      ]
    },
    {
      "cell_type": "code",
      "metadata": {
        "id": "gZbnDtfy7YrP"
      },
      "source": [
        "pca = PCA(n_components=5) "
      ],
      "execution_count": null,
      "outputs": []
    },
    {
      "cell_type": "code",
      "metadata": {
        "id": "G6WQSExt75Sk"
      },
      "source": [
        "principalComponents5 = pca.fit_transform(scaled_data) \n",
        "principalDf5 = pd.DataFrame(data = principalComponents5 , columns = ['principal component 1', 'principal component 2', 'principal component 3', 'principal component 4', 'principal component 5'])"
      ],
      "execution_count": null,
      "outputs": []
    },
    {
      "cell_type": "code",
      "metadata": {
        "id": "EyqyaigZ8OIM",
        "outputId": "0d3c46c7-f14d-4871-ced1-d7e8f0719a02",
        "colab": {
          "base_uri": "https://localhost:8080/",
          "height": 204
        }
      },
      "source": [
        "principalDf5.head()"
      ],
      "execution_count": null,
      "outputs": [
        {
          "output_type": "execute_result",
          "data": {
            "text/html": [
              "<div>\n",
              "<style scoped>\n",
              "    .dataframe tbody tr th:only-of-type {\n",
              "        vertical-align: middle;\n",
              "    }\n",
              "\n",
              "    .dataframe tbody tr th {\n",
              "        vertical-align: top;\n",
              "    }\n",
              "\n",
              "    .dataframe thead th {\n",
              "        text-align: right;\n",
              "    }\n",
              "</style>\n",
              "<table border=\"1\" class=\"dataframe\">\n",
              "  <thead>\n",
              "    <tr style=\"text-align: right;\">\n",
              "      <th></th>\n",
              "      <th>principal component 1</th>\n",
              "      <th>principal component 2</th>\n",
              "      <th>principal component 3</th>\n",
              "      <th>principal component 4</th>\n",
              "      <th>principal component 5</th>\n",
              "    </tr>\n",
              "  </thead>\n",
              "  <tbody>\n",
              "    <tr>\n",
              "      <th>0</th>\n",
              "      <td>0.855290</td>\n",
              "      <td>1.966877</td>\n",
              "      <td>1.892570</td>\n",
              "      <td>-2.152110</td>\n",
              "      <td>-0.904092</td>\n",
              "    </tr>\n",
              "    <tr>\n",
              "      <th>1</th>\n",
              "      <td>-0.298996</td>\n",
              "      <td>0.235250</td>\n",
              "      <td>-0.505648</td>\n",
              "      <td>1.375011</td>\n",
              "      <td>-0.688857</td>\n",
              "    </tr>\n",
              "    <tr>\n",
              "      <th>2</th>\n",
              "      <td>3.077458</td>\n",
              "      <td>0.763055</td>\n",
              "      <td>-1.655082</td>\n",
              "      <td>-1.002427</td>\n",
              "      <td>-1.906995</td>\n",
              "    </tr>\n",
              "    <tr>\n",
              "      <th>3</th>\n",
              "      <td>0.453819</td>\n",
              "      <td>1.909382</td>\n",
              "      <td>-0.723430</td>\n",
              "      <td>2.353526</td>\n",
              "      <td>-2.460427</td>\n",
              "    </tr>\n",
              "    <tr>\n",
              "      <th>4</th>\n",
              "      <td>-1.979976</td>\n",
              "      <td>-0.639710</td>\n",
              "      <td>1.052060</td>\n",
              "      <td>0.409271</td>\n",
              "      <td>-1.000849</td>\n",
              "    </tr>\n",
              "  </tbody>\n",
              "</table>\n",
              "</div>"
            ],
            "text/plain": [
              "   principal component 1  ...  principal component 5\n",
              "0               0.855290  ...              -0.904092\n",
              "1              -0.298996  ...              -0.688857\n",
              "2               3.077458  ...              -1.906995\n",
              "3               0.453819  ...              -2.460427\n",
              "4              -1.979976  ...              -1.000849\n",
              "\n",
              "[5 rows x 5 columns]"
            ]
          },
          "metadata": {
            "tags": []
          },
          "execution_count": 53
        }
      ]
    },
    {
      "cell_type": "code",
      "metadata": {
        "id": "xzhi7Wwr8WXx"
      },
      "source": [
        "Y = Y.astype(int)\n",
        "Y = Y.reshape(-1)"
      ],
      "execution_count": null,
      "outputs": []
    },
    {
      "cell_type": "code",
      "metadata": {
        "id": "T_7J7S2R81yy"
      },
      "source": [
        "x_train, x_test, y_train, y_test = train_test_split(principalDf5,Y,test_size = 0.148)"
      ],
      "execution_count": null,
      "outputs": []
    },
    {
      "cell_type": "code",
      "metadata": {
        "id": "IpZstb4d89V4"
      },
      "source": [
        "scaler = preprocessing.StandardScaler().fit(x_train)\n",
        "x_train = scaler.transform(x_train)\n",
        "scaler = preprocessing.StandardScaler().fit(x_test)\n",
        "x_test = scaler.transform(x_test)"
      ],
      "execution_count": null,
      "outputs": []
    },
    {
      "cell_type": "markdown",
      "metadata": {
        "id": "ubRKdvVU9V-b"
      },
      "source": [
        "###Random search cv"
      ]
    },
    {
      "cell_type": "code",
      "metadata": {
        "id": "p8oycPxA9D5d"
      },
      "source": [
        "from sklearn.model_selection import RandomizedSearchCV# Number of trees in random forest\n",
        "n_estimators = [int(x) for x in np.linspace(start = 500, stop = 2000, num = 10)]\n",
        "# Number of features to consider at every split\n",
        "max_features = ['auto', 'sqrt']\n",
        "# Maximum number of levels in tree\n",
        "max_depth = [int(x) for x in np.linspace(10, 110, num = 11)]\n",
        "max_depth.append(None)\n",
        "# Minimum number of samples required to split a node\n",
        "min_samples_split = [2, 3,5]\n",
        "# Minimum number of samples required at each leaf node\n",
        "min_samples_leaf = [ 2, 3, 4]\n",
        "# Method of selecting samples for training each tree\n",
        "bootstrap = [True, False]# Create the random grid\n",
        "random_grid = {'n_estimators': n_estimators,\n",
        "               'max_features': max_features,\n",
        "               'max_depth': max_depth,\n",
        "               'min_samples_split': min_samples_split,\n",
        "               'min_samples_leaf': min_samples_leaf,\n",
        "               'bootstrap': bootstrap}"
      ],
      "execution_count": null,
      "outputs": []
    },
    {
      "cell_type": "code",
      "metadata": {
        "id": "20sT0iBH9Txc",
        "outputId": "e5dec851-d471-4978-ed03-94e7fc877cc8",
        "colab": {
          "base_uri": "https://localhost:8080/"
        }
      },
      "source": [
        "clf = RandomForestClassifier()\n",
        "rf_rscv = RandomizedSearchCV(estimator=clf,param_distributions = random_grid,n_iter = 100,cv = 5)\n",
        "rf_rscv.fit(x_train,y_train)"
      ],
      "execution_count": null,
      "outputs": [
        {
          "output_type": "execute_result",
          "data": {
            "text/plain": [
              "RandomizedSearchCV(cv=5, error_score=nan,\n",
              "                   estimator=RandomForestClassifier(bootstrap=True,\n",
              "                                                    ccp_alpha=0.0,\n",
              "                                                    class_weight=None,\n",
              "                                                    criterion='gini',\n",
              "                                                    max_depth=None,\n",
              "                                                    max_features='auto',\n",
              "                                                    max_leaf_nodes=None,\n",
              "                                                    max_samples=None,\n",
              "                                                    min_impurity_decrease=0.0,\n",
              "                                                    min_impurity_split=None,\n",
              "                                                    min_samples_leaf=1,\n",
              "                                                    min_samples_split=2,\n",
              "                                                    min_weight_fraction_leaf=0.0,\n",
              "                                                    n_estimators=100,\n",
              "                                                    n_jobs...\n",
              "                   param_distributions={'bootstrap': [True, False],\n",
              "                                        'max_depth': [10, 20, 30, 40, 50, 60,\n",
              "                                                      70, 80, 90, 100, 110,\n",
              "                                                      None],\n",
              "                                        'max_features': ['auto', 'sqrt'],\n",
              "                                        'min_samples_leaf': [2, 3, 4],\n",
              "                                        'min_samples_split': [2, 3, 5],\n",
              "                                        'n_estimators': [500, 666, 833, 1000,\n",
              "                                                         1166, 1333, 1500, 1666,\n",
              "                                                         1833, 2000]},\n",
              "                   pre_dispatch='2*n_jobs', random_state=None, refit=True,\n",
              "                   return_train_score=False, scoring=None, verbose=0)"
            ]
          },
          "metadata": {
            "tags": []
          },
          "execution_count": 59
        }
      ]
    },
    {
      "cell_type": "code",
      "metadata": {
        "id": "VPAzVHqL9gyh",
        "outputId": "09ad77b7-ed04-4105-b9e9-e7ab9cdf86c2",
        "colab": {
          "base_uri": "https://localhost:8080/"
        }
      },
      "source": [
        "rf_rscv.best_params_"
      ],
      "execution_count": null,
      "outputs": [
        {
          "output_type": "execute_result",
          "data": {
            "text/plain": [
              "{'bootstrap': True,\n",
              " 'max_depth': 100,\n",
              " 'max_features': 'auto',\n",
              " 'min_samples_leaf': 4,\n",
              " 'min_samples_split': 3,\n",
              " 'n_estimators': 1000}"
            ]
          },
          "metadata": {
            "tags": []
          },
          "execution_count": 60
        }
      ]
    },
    {
      "cell_type": "markdown",
      "metadata": {
        "id": "SdT9MeWTCGsT"
      },
      "source": [
        "###Grid search cv"
      ]
    },
    {
      "cell_type": "code",
      "metadata": {
        "id": "o3Y6cVRKCCyE",
        "outputId": "73da506d-9e27-4d23-8d5f-db810765b6c6",
        "colab": {
          "base_uri": "https://localhost:8080/"
        }
      },
      "source": [
        "from sklearn.model_selection import GridSearchCV# Create the parameter grid based on the results of random search \n",
        "param_grid = {\n",
        "    'bootstrap': [True],\n",
        "    'max_depth': [50, 60,70,80],\n",
        "    'max_features': ['auto','sqrt'],\n",
        "    'min_samples_leaf': [2,3,4],\n",
        "    'min_samples_split': [2,3,4],\n",
        "    'n_estimators': [900,1000,1333,1400]\n",
        "}\n",
        "rf = RandomForestClassifier()# Instantiate the grid search model\n",
        "grid_search = GridSearchCV(estimator = rf, param_grid = param_grid, \n",
        "                          cv = 3, n_jobs = -1, verbose = 2)\n",
        "grid_search.fit(x_train,y_train)"
      ],
      "execution_count": null,
      "outputs": [
        {
          "output_type": "stream",
          "text": [
            "Fitting 3 folds for each of 288 candidates, totalling 864 fits\n"
          ],
          "name": "stdout"
        },
        {
          "output_type": "stream",
          "text": [
            "[Parallel(n_jobs=-1)]: Using backend LokyBackend with 2 concurrent workers.\n",
            "[Parallel(n_jobs=-1)]: Done  37 tasks      | elapsed:   59.1s\n",
            "[Parallel(n_jobs=-1)]: Done 158 tasks      | elapsed:  4.1min\n",
            "[Parallel(n_jobs=-1)]: Done 361 tasks      | elapsed:  9.4min\n",
            "[Parallel(n_jobs=-1)]: Done 644 tasks      | elapsed: 16.6min\n",
            "[Parallel(n_jobs=-1)]: Done 864 out of 864 | elapsed: 22.3min finished\n"
          ],
          "name": "stderr"
        },
        {
          "output_type": "execute_result",
          "data": {
            "text/plain": [
              "GridSearchCV(cv=3, error_score=nan,\n",
              "             estimator=RandomForestClassifier(bootstrap=True, ccp_alpha=0.0,\n",
              "                                              class_weight=None,\n",
              "                                              criterion='gini', max_depth=None,\n",
              "                                              max_features='auto',\n",
              "                                              max_leaf_nodes=None,\n",
              "                                              max_samples=None,\n",
              "                                              min_impurity_decrease=0.0,\n",
              "                                              min_impurity_split=None,\n",
              "                                              min_samples_leaf=1,\n",
              "                                              min_samples_split=2,\n",
              "                                              min_weight_fraction_leaf=0.0,\n",
              "                                              n_estimators=100, n_jobs=None,\n",
              "                                              oob_score=False,\n",
              "                                              random_state=None, verbose=0,\n",
              "                                              warm_start=False),\n",
              "             iid='deprecated', n_jobs=-1,\n",
              "             param_grid={'bootstrap': [True], 'max_depth': [50, 60, 70, 80],\n",
              "                         'max_features': ['auto', 'sqrt'],\n",
              "                         'min_samples_leaf': [2, 3, 4],\n",
              "                         'min_samples_split': [2, 3, 4],\n",
              "                         'n_estimators': [900, 1000, 1333, 1400]},\n",
              "             pre_dispatch='2*n_jobs', refit=True, return_train_score=False,\n",
              "             scoring=None, verbose=2)"
            ]
          },
          "metadata": {
            "tags": []
          },
          "execution_count": 61
        }
      ]
    },
    {
      "cell_type": "code",
      "metadata": {
        "id": "pSdZ1TndCK2U",
        "outputId": "831392d6-5846-4413-f177-0b131fb114fb",
        "colab": {
          "base_uri": "https://localhost:8080/"
        }
      },
      "source": [
        "grid_search.best_params_"
      ],
      "execution_count": null,
      "outputs": [
        {
          "output_type": "execute_result",
          "data": {
            "text/plain": [
              "{'bootstrap': True,\n",
              " 'max_depth': 80,\n",
              " 'max_features': 'auto',\n",
              " 'min_samples_leaf': 4,\n",
              " 'min_samples_split': 4,\n",
              " 'n_estimators': 900}"
            ]
          },
          "metadata": {
            "tags": []
          },
          "execution_count": 62
        }
      ]
    },
    {
      "cell_type": "code",
      "metadata": {
        "id": "UsnYi6LrII2W",
        "outputId": "0cd84da1-c5a8-42db-a463-38d0bcc28375",
        "colab": {
          "base_uri": "https://localhost:8080/"
        }
      },
      "source": [
        "clf = RandomForestClassifier(n_estimators=1333,bootstrap=True,max_depth=80, max_features='sqrt', min_samples_split= 4, min_samples_leaf=3).fit(x_train,y_train)\n",
        "clf.fit(x_train,y_train)\n",
        "y_predicted = clf.predict(x_test)\n",
        "y_train_pred = clf.predict(x_train)\n",
        "\n",
        "pred_prob = clf.predict_proba(x_test)\n",
        "print(\"Accuracy Test %0.2f\" %(accuracy_score(y_test,y_predicted)*100))\n",
        "print(\"Accuracy Train %0.2f\" %(accuracy_score(y_train,y_train_pred)*100))\n",
        "print(\"ROC-AUC Score %0.2f\" %(roc_auc_score(y_test,pred_prob[:,1])*100))\n",
        "print(\"Recall Score %0.2f\" %(recall_score(y_test,y_predicted)*100))"
      ],
      "execution_count": null,
      "outputs": [
        {
          "output_type": "stream",
          "text": [
            "Accuracy Test 79.31\n",
            "Accuracy Train 95.20\n",
            "ROC-AUC Score 76.89\n",
            "Recall Score 88.57\n"
          ],
          "name": "stdout"
        }
      ]
    },
    {
      "cell_type": "code",
      "metadata": {
        "id": "z4uc-wESIN6I",
        "outputId": "f0061af5-95d9-4007-ef92-a2896750ce22",
        "colab": {
          "base_uri": "https://localhost:8080/"
        }
      },
      "source": [
        "from xgboost import XGBRFClassifier\n",
        "xgb = XGBRFClassifier()\n",
        "xgb.fit(x_train,y_train)\n",
        "y_predicted = xgb.predict(x_test)\n",
        "y_train_pred = xgb.predict(x_train)\n",
        "\n",
        "pred_prob = xgb.predict_proba(x_test)\n",
        "print(\"Accuracy Test %0.2f\" %(accuracy_score(y_test,y_predicted)*100))\n",
        "print(\"Accuracy Train %0.2f\" %(accuracy_score(y_train,y_train_pred)*100))\n",
        "print(\"ROC-AUC Score %0.2f\" %(roc_auc_score(y_test,pred_prob[:,1])*100))\n",
        "print(\"Recall Score %0.2f\" %(recall_score(y_test,y_predicted)*100))"
      ],
      "execution_count": null,
      "outputs": [
        {
          "output_type": "stream",
          "text": [
            "Accuracy Test 82.76\n",
            "Accuracy Train 81.60\n",
            "ROC-AUC Score 77.14\n",
            "Recall Score 92.86\n"
          ],
          "name": "stdout"
        }
      ]
    },
    {
      "cell_type": "code",
      "metadata": {
        "id": "Oih4Aa0EIYQN",
        "outputId": "e46bdb71-a2b3-4ee4-89f3-3a30832b4e2d",
        "colab": {
          "base_uri": "https://localhost:8080/"
        }
      },
      "source": [
        "from lightgbm import LGBMClassifier\n",
        "lgb = LGBMClassifier()\n",
        "lgb.fit(x_train,y_train)\n",
        "y_predicted = lgb.predict(x_test)\n",
        "y_train_pred = lgb.predict(x_train)\n",
        "\n",
        "pred_prob = xgb.predict_proba(x_test)\n",
        "print(\"Accuracy Test %0.2f\" %(accuracy_score(y_test,y_predicted)*100))\n",
        "print(\"Accuracy Train %0.2f\" %(accuracy_score(y_train,y_train_pred)*100))\n",
        "print(\"ROC-AUC Score %0.2f\" %(roc_auc_score(y_test,pred_prob[:,1])*100))\n",
        "print(\"Recall Score %0.2f\" %(recall_score(y_test,y_predicted)*100))"
      ],
      "execution_count": null,
      "outputs": [
        {
          "output_type": "stream",
          "text": [
            "Accuracy Test 73.56\n",
            "Accuracy Train 100.00\n",
            "ROC-AUC Score 77.14\n",
            "Recall Score 82.86\n"
          ],
          "name": "stdout"
        }
      ]
    },
    {
      "cell_type": "code",
      "metadata": {
        "id": "uNd67a83IdBS"
      },
      "source": [
        "from catboost import CatBoostClassifier\n",
        "cgb = CatBoostClassifier(iterations=10000)\n",
        "cgb.fit(x_train,y_train)\n",
        "y_predicted = cgb.predict(x_test)\n",
        "y_train_pred = cgb.predict(x_train)"
      ],
      "execution_count": null,
      "outputs": []
    },
    {
      "cell_type": "code",
      "metadata": {
        "id": "Lb7UjDpVInaK",
        "outputId": "3ddd3781-a339-43ef-fa76-843690810ad8",
        "colab": {
          "base_uri": "https://localhost:8080/"
        }
      },
      "source": [
        "pred_prob = cgb.predict_proba(x_test)\n",
        "print(\"Accuracy Test %0.2f\" %(accuracy_score(y_test,y_predicted)*100))\n",
        "print(\"Accuracy Train %0.2f\" %(accuracy_score(y_train,y_train_pred)*100))\n",
        "print(\"ROC-AUC Score %0.2f\" %(roc_auc_score(y_test,pred_prob[:,1])*100))\n",
        "print(\"Recall Score %0.2f\" %(recall_score(y_test,y_predicted)*100))"
      ],
      "execution_count": null,
      "outputs": [
        {
          "output_type": "stream",
          "text": [
            "Accuracy Test 79.31\n",
            "Accuracy Train 97.60\n",
            "ROC-AUC Score 75.13\n",
            "Recall Score 88.57\n"
          ],
          "name": "stdout"
        }
      ]
    },
    {
      "cell_type": "code",
      "metadata": {
        "id": "6DQGuJkhI-Oe",
        "outputId": "ae946015-5739-47c9-dbb1-bee6c7e789bd",
        "colab": {
          "base_uri": "https://localhost:8080/"
        }
      },
      "source": [
        "df_xtrain = pd.DataFrame(x_train)\n",
        "df_xtrain.shape"
      ],
      "execution_count": null,
      "outputs": [
        {
          "output_type": "execute_result",
          "data": {
            "text/plain": [
              "(500, 5)"
            ]
          },
          "metadata": {
            "tags": []
          },
          "execution_count": 68
        }
      ]
    },
    {
      "cell_type": "code",
      "metadata": {
        "id": "13QN1wwiJXJn",
        "outputId": "1744de91-2ab8-43c7-8afa-673aabb45faf",
        "colab": {
          "base_uri": "https://localhost:8080/",
          "height": 327
        }
      },
      "source": [
        "plt.style.use('ggplot')\n",
        "fig, axes = plt.subplots(nrows=1, ncols=2, figsize=(15, 5))\n",
        "axes[0].scatter(df_xtrain.iloc[:,4],df_xtrain.iloc[:,4],c=y_train_pred,cmap='brg')\n",
        "axes[1].scatter(df_xtrain.iloc[:,4],df_xtrain.iloc[:,4],c=y_train,cmap='brg')\n",
        "axes[0].title.set_text(\"Predictions\")\n",
        "axes[1].title.set_text(\"Actual Plot\")\n",
        "fig.tight_layout()"
      ],
      "execution_count": null,
      "outputs": [
        {
          "output_type": "display_data",
          "data": {
            "image/png": "[encoded data removed]",
            "text/plain": [
              "<Figure size 1080x360 with 2 Axes>"
            ]
          },
          "metadata": {
            "tags": []
          }
        }
      ]
    },
    {
      "cell_type": "markdown",
      "metadata": {
        "id": "6XxT1dZIY1Dt"
      },
      "source": [
        "# for 95 % varied pca data"
      ]
    },
    {
      "cell_type": "code",
      "metadata": {
        "id": "7xzLC5-lJded"
      },
      "source": [
        "pca = PCA(.95)"
      ],
      "execution_count": null,
      "outputs": []
    },
    {
      "cell_type": "code",
      "metadata": {
        "id": "ivUGc-N1XnZj"
      },
      "source": [
        "principalComponents95 = pca.fit_transform(scaled_data) \n",
        "principalDf95 = pd.DataFrame(data = principalComponents95)"
      ],
      "execution_count": null,
      "outputs": []
    },
    {
      "cell_type": "code",
      "metadata": {
        "id": "5aB_yD-IX6h_",
        "outputId": "1d5081e9-7956-4ae0-c4e8-be5546e7f46b",
        "colab": {
          "base_uri": "https://localhost:8080/",
          "height": 224
        }
      },
      "source": [
        "principalDf95.head()"
      ],
      "execution_count": null,
      "outputs": [
        {
          "output_type": "execute_result",
          "data": {
            "text/html": [
              "<div>\n",
              "<style scoped>\n",
              "    .dataframe tbody tr th:only-of-type {\n",
              "        vertical-align: middle;\n",
              "    }\n",
              "\n",
              "    .dataframe tbody tr th {\n",
              "        vertical-align: top;\n",
              "    }\n",
              "\n",
              "    .dataframe thead th {\n",
              "        text-align: right;\n",
              "    }\n",
              "</style>\n",
              "<table border=\"1\" class=\"dataframe\">\n",
              "  <thead>\n",
              "    <tr style=\"text-align: right;\">\n",
              "      <th></th>\n",
              "      <th>0</th>\n",
              "      <th>1</th>\n",
              "      <th>2</th>\n",
              "      <th>3</th>\n",
              "      <th>4</th>\n",
              "      <th>5</th>\n",
              "      <th>6</th>\n",
              "      <th>7</th>\n",
              "      <th>8</th>\n",
              "      <th>9</th>\n",
              "      <th>10</th>\n",
              "      <th>11</th>\n",
              "      <th>12</th>\n",
              "      <th>13</th>\n",
              "      <th>14</th>\n",
              "      <th>15</th>\n",
              "      <th>16</th>\n",
              "    </tr>\n",
              "  </thead>\n",
              "  <tbody>\n",
              "    <tr>\n",
              "      <th>0</th>\n",
              "      <td>0.854614</td>\n",
              "      <td>1.969390</td>\n",
              "      <td>1.875328</td>\n",
              "      <td>-2.086394</td>\n",
              "      <td>-0.897176</td>\n",
              "      <td>-0.102411</td>\n",
              "      <td>2.159508</td>\n",
              "      <td>-0.673094</td>\n",
              "      <td>0.285484</td>\n",
              "      <td>-0.927800</td>\n",
              "      <td>-0.210439</td>\n",
              "      <td>-0.899122</td>\n",
              "      <td>-0.083104</td>\n",
              "      <td>-1.136037</td>\n",
              "      <td>0.071687</td>\n",
              "      <td>0.271791</td>\n",
              "      <td>0.569828</td>\n",
              "    </tr>\n",
              "    <tr>\n",
              "      <th>1</th>\n",
              "      <td>-0.298516</td>\n",
              "      <td>0.235050</td>\n",
              "      <td>-0.510201</td>\n",
              "      <td>1.391119</td>\n",
              "      <td>-0.685964</td>\n",
              "      <td>-1.123168</td>\n",
              "      <td>-0.661280</td>\n",
              "      <td>-2.758892</td>\n",
              "      <td>1.839229</td>\n",
              "      <td>-0.264500</td>\n",
              "      <td>1.648929</td>\n",
              "      <td>0.069608</td>\n",
              "      <td>0.287181</td>\n",
              "      <td>-0.065683</td>\n",
              "      <td>1.415329</td>\n",
              "      <td>-1.575260</td>\n",
              "      <td>-0.030766</td>\n",
              "    </tr>\n",
              "    <tr>\n",
              "      <th>2</th>\n",
              "      <td>3.078638</td>\n",
              "      <td>0.761497</td>\n",
              "      <td>-1.656571</td>\n",
              "      <td>-0.993384</td>\n",
              "      <td>-1.891366</td>\n",
              "      <td>2.045309</td>\n",
              "      <td>0.541368</td>\n",
              "      <td>0.335011</td>\n",
              "      <td>-0.256331</td>\n",
              "      <td>0.459911</td>\n",
              "      <td>0.260511</td>\n",
              "      <td>-0.567643</td>\n",
              "      <td>-0.215480</td>\n",
              "      <td>-0.658798</td>\n",
              "      <td>0.588662</td>\n",
              "      <td>-1.167086</td>\n",
              "      <td>-1.145764</td>\n",
              "    </tr>\n",
              "    <tr>\n",
              "      <th>3</th>\n",
              "      <td>0.453815</td>\n",
              "      <td>1.908074</td>\n",
              "      <td>-0.703945</td>\n",
              "      <td>2.302706</td>\n",
              "      <td>-2.495556</td>\n",
              "      <td>0.838159</td>\n",
              "      <td>2.064699</td>\n",
              "      <td>-0.347785</td>\n",
              "      <td>-0.632114</td>\n",
              "      <td>-0.055184</td>\n",
              "      <td>1.106446</td>\n",
              "      <td>-1.246500</td>\n",
              "      <td>-3.336296</td>\n",
              "      <td>1.141207</td>\n",
              "      <td>-1.556083</td>\n",
              "      <td>1.012140</td>\n",
              "      <td>1.208697</td>\n",
              "    </tr>\n",
              "    <tr>\n",
              "      <th>4</th>\n",
              "      <td>-1.979416</td>\n",
              "      <td>-0.640785</td>\n",
              "      <td>1.055068</td>\n",
              "      <td>0.400676</td>\n",
              "      <td>-0.996482</td>\n",
              "      <td>-0.663600</td>\n",
              "      <td>0.127239</td>\n",
              "      <td>-0.564725</td>\n",
              "      <td>0.143183</td>\n",
              "      <td>1.034252</td>\n",
              "      <td>0.701693</td>\n",
              "      <td>0.182970</td>\n",
              "      <td>0.139868</td>\n",
              "      <td>-0.471899</td>\n",
              "      <td>-0.013400</td>\n",
              "      <td>-0.623484</td>\n",
              "      <td>-0.503957</td>\n",
              "    </tr>\n",
              "  </tbody>\n",
              "</table>\n",
              "</div>"
            ],
            "text/plain": [
              "         0         1         2   ...        14        15        16\n",
              "0  0.854614  1.969390  1.875328  ...  0.071687  0.271791  0.569828\n",
              "1 -0.298516  0.235050 -0.510201  ...  1.415329 -1.575260 -0.030766\n",
              "2  3.078638  0.761497 -1.656571  ...  0.588662 -1.167086 -1.145764\n",
              "3  0.453815  1.908074 -0.703945  ... -1.556083  1.012140  1.208697\n",
              "4 -1.979416 -0.640785  1.055068  ... -0.013400 -0.623484 -0.503957\n",
              "\n",
              "[5 rows x 17 columns]"
            ]
          },
          "metadata": {
            "tags": []
          },
          "execution_count": 74
        }
      ]
    },
    {
      "cell_type": "code",
      "metadata": {
        "id": "LYD0bgvwYASx"
      },
      "source": [
        "Y = Y.astype(int)\n",
        "Y = Y.reshape(-1)"
      ],
      "execution_count": null,
      "outputs": []
    },
    {
      "cell_type": "code",
      "metadata": {
        "id": "UL70-XIlYb1_"
      },
      "source": [
        "x_train, x_test, y_train, y_test = train_test_split(principalDf95,Y,test_size = 0.148)"
      ],
      "execution_count": null,
      "outputs": []
    },
    {
      "cell_type": "code",
      "metadata": {
        "id": "Z61QzfFEYn0O"
      },
      "source": [
        "scaler = preprocessing.StandardScaler().fit(x_train)\n",
        "x_train = scaler.transform(x_train)\n",
        "scaler = preprocessing.StandardScaler().fit(x_test)\n",
        "x_test = scaler.transform(x_test)"
      ],
      "execution_count": null,
      "outputs": []
    },
    {
      "cell_type": "markdown",
      "metadata": {
        "id": "6Z7EICOqYw2D"
      },
      "source": [
        "###Random search cv"
      ]
    },
    {
      "cell_type": "code",
      "metadata": {
        "id": "u-pBlFUaYrsy"
      },
      "source": [
        "from sklearn.model_selection import RandomizedSearchCV# Number of trees in random forest\n",
        "n_estimators = [int(x) for x in np.linspace(start = 500, stop = 2000, num = 10)]\n",
        "# Number of features to consider at every split\n",
        "max_features = ['auto', 'sqrt']\n",
        "# Maximum number of levels in tree\n",
        "max_depth = [int(x) for x in np.linspace(10, 110, num = 11)]\n",
        "max_depth.append(None)\n",
        "# Minimum number of samples required to split a node\n",
        "min_samples_split = [2, 3,5]\n",
        "# Minimum number of samples required at each leaf node\n",
        "min_samples_leaf = [ 2, 3, 4]\n",
        "# Method of selecting samples for training each tree\n",
        "bootstrap = [True, False]# Create the random grid\n",
        "random_grid = {'n_estimators': n_estimators,\n",
        "               'max_features': max_features,\n",
        "               'max_depth': max_depth,\n",
        "               'min_samples_split': min_samples_split,\n",
        "               'min_samples_leaf': min_samples_leaf,\n",
        "               'bootstrap': bootstrap}"
      ],
      "execution_count": null,
      "outputs": []
    },
    {
      "cell_type": "code",
      "metadata": {
        "id": "k37X9QfWY9rP",
        "outputId": "d073ef6e-c0c6-475a-aee6-286571f51f65",
        "colab": {
          "base_uri": "https://localhost:8080/"
        }
      },
      "source": [
        "clf = RandomForestClassifier()\n",
        "rf_rscv = RandomizedSearchCV(estimator=clf,param_distributions = random_grid,n_iter = 100,cv = 5)\n",
        "rf_rscv.fit(x_train,y_train)"
      ],
      "execution_count": null,
      "outputs": [
        {
          "output_type": "execute_result",
          "data": {
            "text/plain": [
              "RandomizedSearchCV(cv=5, error_score=nan,\n",
              "                   estimator=RandomForestClassifier(bootstrap=True,\n",
              "                                                    ccp_alpha=0.0,\n",
              "                                                    class_weight=None,\n",
              "                                                    criterion='gini',\n",
              "                                                    max_depth=None,\n",
              "                                                    max_features='auto',\n",
              "                                                    max_leaf_nodes=None,\n",
              "                                                    max_samples=None,\n",
              "                                                    min_impurity_decrease=0.0,\n",
              "                                                    min_impurity_split=None,\n",
              "                                                    min_samples_leaf=1,\n",
              "                                                    min_samples_split=2,\n",
              "                                                    min_weight_fraction_leaf=0.0,\n",
              "                                                    n_estimators=100,\n",
              "                                                    n_jobs...\n",
              "                   param_distributions={'bootstrap': [True, False],\n",
              "                                        'max_depth': [10, 20, 30, 40, 50, 60,\n",
              "                                                      70, 80, 90, 100, 110,\n",
              "                                                      None],\n",
              "                                        'max_features': ['auto', 'sqrt'],\n",
              "                                        'min_samples_leaf': [2, 3, 4],\n",
              "                                        'min_samples_split': [2, 3, 5],\n",
              "                                        'n_estimators': [500, 666, 833, 1000,\n",
              "                                                         1166, 1333, 1500, 1666,\n",
              "                                                         1833, 2000]},\n",
              "                   pre_dispatch='2*n_jobs', random_state=None, refit=True,\n",
              "                   return_train_score=False, scoring=None, verbose=0)"
            ]
          },
          "metadata": {
            "tags": []
          },
          "execution_count": 80
        }
      ]
    },
    {
      "cell_type": "code",
      "metadata": {
        "id": "4h-ko0auZCuo",
        "outputId": "5108debc-f5e7-4644-d7b0-db55d8ca826b",
        "colab": {
          "base_uri": "https://localhost:8080/"
        }
      },
      "source": [
        "rf_rscv.best_params_"
      ],
      "execution_count": null,
      "outputs": [
        {
          "output_type": "execute_result",
          "data": {
            "text/plain": [
              "{'bootstrap': True,\n",
              " 'max_depth': 70,\n",
              " 'max_features': 'auto',\n",
              " 'min_samples_leaf': 3,\n",
              " 'min_samples_split': 5,\n",
              " 'n_estimators': 666}"
            ]
          },
          "metadata": {
            "tags": []
          },
          "execution_count": 81
        }
      ]
    },
    {
      "cell_type": "markdown",
      "metadata": {
        "id": "XY8owII4d3yE"
      },
      "source": [
        "###Grid search cv"
      ]
    },
    {
      "cell_type": "code",
      "metadata": {
        "id": "EGeTJ4FIdvQp",
        "outputId": "f495ca43-d0e0-46ec-86ba-e8964a49e957",
        "colab": {
          "base_uri": "https://localhost:8080/"
        }
      },
      "source": [
        "param_grid = {\n",
        "    'bootstrap': [True],\n",
        "    'max_depth': [50, 60,70,80],\n",
        "    'max_features': ['auto','sqrt'],\n",
        "    'min_samples_leaf': [2,3,4],\n",
        "    'min_samples_split': [2,3,4],\n",
        "    'n_estimators': [900,1000,1333,1400]\n",
        "}\n",
        "rf = RandomForestClassifier()# Instantiate the grid search model\n",
        "grid_search = GridSearchCV(estimator = rf, param_grid = param_grid, \n",
        "                          cv = 3, n_jobs = -1, verbose = 2)\n",
        "grid_search.fit(x_train,y_train)"
      ],
      "execution_count": null,
      "outputs": [
        {
          "output_type": "stream",
          "text": [
            "Fitting 3 folds for each of 288 candidates, totalling 864 fits\n"
          ],
          "name": "stdout"
        },
        {
          "output_type": "stream",
          "text": [
            "[Parallel(n_jobs=-1)]: Using backend LokyBackend with 2 concurrent workers.\n",
            "[Parallel(n_jobs=-1)]: Done  37 tasks      | elapsed:  1.2min\n",
            "[Parallel(n_jobs=-1)]: Done 158 tasks      | elapsed:  4.8min\n",
            "[Parallel(n_jobs=-1)]: Done 361 tasks      | elapsed: 10.8min\n",
            "[Parallel(n_jobs=-1)]: Done 644 tasks      | elapsed: 19.1min\n",
            "[Parallel(n_jobs=-1)]: Done 864 out of 864 | elapsed: 25.5min finished\n"
          ],
          "name": "stderr"
        },
        {
          "output_type": "execute_result",
          "data": {
            "text/plain": [
              "GridSearchCV(cv=3, error_score=nan,\n",
              "             estimator=RandomForestClassifier(bootstrap=True, ccp_alpha=0.0,\n",
              "                                              class_weight=None,\n",
              "                                              criterion='gini', max_depth=None,\n",
              "                                              max_features='auto',\n",
              "                                              max_leaf_nodes=None,\n",
              "                                              max_samples=None,\n",
              "                                              min_impurity_decrease=0.0,\n",
              "                                              min_impurity_split=None,\n",
              "                                              min_samples_leaf=1,\n",
              "                                              min_samples_split=2,\n",
              "                                              min_weight_fraction_leaf=0.0,\n",
              "                                              n_estimators=100, n_jobs=None,\n",
              "                                              oob_score=False,\n",
              "                                              random_state=None, verbose=0,\n",
              "                                              warm_start=False),\n",
              "             iid='deprecated', n_jobs=-1,\n",
              "             param_grid={'bootstrap': [True], 'max_depth': [50, 60, 70, 80],\n",
              "                         'max_features': ['auto', 'sqrt'],\n",
              "                         'min_samples_leaf': [2, 3, 4],\n",
              "                         'min_samples_split': [2, 3, 4],\n",
              "                         'n_estimators': [900, 1000, 1333, 1400]},\n",
              "             pre_dispatch='2*n_jobs', refit=True, return_train_score=False,\n",
              "             scoring=None, verbose=2)"
            ]
          },
          "metadata": {
            "tags": []
          },
          "execution_count": 82
        }
      ]
    },
    {
      "cell_type": "code",
      "metadata": {
        "id": "_3Ug4tljd6o8",
        "outputId": "7537629f-385b-41be-fa86-de2b9e09b061",
        "colab": {
          "base_uri": "https://localhost:8080/"
        }
      },
      "source": [
        "grid_search.best_params_"
      ],
      "execution_count": null,
      "outputs": [
        {
          "output_type": "execute_result",
          "data": {
            "text/plain": [
              "{'bootstrap': True,\n",
              " 'max_depth': 50,\n",
              " 'max_features': 'auto',\n",
              " 'min_samples_leaf': 4,\n",
              " 'min_samples_split': 3,\n",
              " 'n_estimators': 1000}"
            ]
          },
          "metadata": {
            "tags": []
          },
          "execution_count": 83
        }
      ]
    },
    {
      "cell_type": "code",
      "metadata": {
        "id": "5Rvrdng-j5QN",
        "outputId": "46553321-d5cb-497d-8511-c48dc1dd1b41",
        "colab": {
          "base_uri": "https://localhost:8080/"
        }
      },
      "source": [
        "clf = RandomForestClassifier(n_estimators=1333,bootstrap=True,max_depth=80, max_features='sqrt', min_samples_split= 4, min_samples_leaf=3).fit(x_train,y_train)\n",
        "clf.fit(x_train,y_train)\n",
        "y_predicted = clf.predict(x_test)\n",
        "y_train_pred = clf.predict(x_train)\n",
        "\n",
        "pred_prob = clf.predict_proba(x_test)\n",
        "print(\"Accuracy Test %0.2f\" %(accuracy_score(y_test,y_predicted)*100))\n",
        "print(\"Accuracy Train %0.2f\" %(accuracy_score(y_train,y_train_pred)*100))\n",
        "print(\"ROC-AUC Score %0.2f\" %(roc_auc_score(y_test,pred_prob[:,1])*100))\n",
        "print(\"Recall Score %0.2f\" %(recall_score(y_test,y_predicted)*100))"
      ],
      "execution_count": null,
      "outputs": [
        {
          "output_type": "stream",
          "text": [
            "Accuracy Test 83.91\n",
            "Accuracy Train 97.20\n",
            "ROC-AUC Score 82.46\n",
            "Recall Score 94.03\n"
          ],
          "name": "stdout"
        }
      ]
    },
    {
      "cell_type": "code",
      "metadata": {
        "id": "d-4hyPtyj-l7",
        "outputId": "ec484843-fe16-4449-cb52-1bedb5981ab1",
        "colab": {
          "base_uri": "https://localhost:8080/"
        }
      },
      "source": [
        "from xgboost import XGBRFClassifier\n",
        "xgb = XGBRFClassifier()\n",
        "xgb.fit(x_train,y_train)\n",
        "y_predicted = xgb.predict(x_test)\n",
        "y_train_pred = xgb.predict(x_train)\n",
        "\n",
        "pred_prob = xgb.predict_proba(x_test)\n",
        "print(\"Accuracy Test %0.2f\" %(accuracy_score(y_test,y_predicted)*100))\n",
        "print(\"Accuracy Train %0.2f\" %(accuracy_score(y_train,y_train_pred)*100))\n",
        "print(\"ROC-AUC Score %0.2f\" %(roc_auc_score(y_test,pred_prob[:,1])*100))\n",
        "print(\"Recall Score %0.2f\" %(recall_score(y_test,y_predicted)*100))"
      ],
      "execution_count": null,
      "outputs": [
        {
          "output_type": "stream",
          "text": [
            "Accuracy Test 78.16\n",
            "Accuracy Train 84.60\n",
            "ROC-AUC Score 80.67\n",
            "Recall Score 89.55\n"
          ],
          "name": "stdout"
        }
      ]
    },
    {
      "cell_type": "code",
      "metadata": {
        "id": "yACvbGR8kJz1",
        "outputId": "0ed61ef8-19ad-4eec-eb6c-9808e1f6e3f3",
        "colab": {
          "base_uri": "https://localhost:8080/"
        }
      },
      "source": [
        "from lightgbm import LGBMClassifier\n",
        "lgb = LGBMClassifier()\n",
        "lgb.fit(x_train,y_train)\n",
        "y_predicted = lgb.predict(x_test)\n",
        "y_train_pred = lgb.predict(x_train)\n",
        "\n",
        "pred_prob = xgb.predict_proba(x_test)\n",
        "print(\"Accuracy Test %0.2f\" %(accuracy_score(y_test,y_predicted)*100))\n",
        "print(\"Accuracy Train %0.2f\" %(accuracy_score(y_train,y_train_pred)*100))\n",
        "print(\"ROC-AUC Score %0.2f\" %(roc_auc_score(y_test,pred_prob[:,1])*100))\n",
        "print(\"Recall Score %0.2f\" %(recall_score(y_test,y_predicted)*100))"
      ],
      "execution_count": null,
      "outputs": [
        {
          "output_type": "stream",
          "text": [
            "Accuracy Test 80.46\n",
            "Accuracy Train 100.00\n",
            "ROC-AUC Score 80.67\n",
            "Recall Score 88.06\n"
          ],
          "name": "stdout"
        }
      ]
    },
    {
      "cell_type": "code",
      "metadata": {
        "id": "jFjggDxCkN07"
      },
      "source": [
        "from catboost import CatBoostClassifier\n",
        "cgb = CatBoostClassifier(iterations=10000)\n",
        "cgb.fit(x_train,y_train)\n",
        "y_predicted = cgb.predict(x_test)\n",
        "y_train_pred = cgb.predict(x_train)"
      ],
      "execution_count": null,
      "outputs": []
    },
    {
      "cell_type": "code",
      "metadata": {
        "id": "qogNQkEVkV2y",
        "outputId": "88731b66-f462-457b-bb99-2cd93b07f184",
        "colab": {
          "base_uri": "https://localhost:8080/"
        }
      },
      "source": [
        "pred_prob = cgb.predict_proba(x_test)\n",
        "print(\"Accuracy Test %0.2f\" %(accuracy_score(y_test,y_predicted)*100))\n",
        "print(\"Accuracy Train %0.2f\" %(accuracy_score(y_train,y_train_pred)*100))\n",
        "print(\"ROC-AUC Score %0.2f\" %(roc_auc_score(y_test,pred_prob[:,1])*100))\n",
        "print(\"Recall Score %0.2f\" %(recall_score(y_test,y_predicted)*100))"
      ],
      "execution_count": null,
      "outputs": [
        {
          "output_type": "stream",
          "text": [
            "Accuracy Test 82.76\n",
            "Accuracy Train 100.00\n",
            "ROC-AUC Score 82.24\n",
            "Recall Score 92.54\n"
          ],
          "name": "stdout"
        }
      ]
    },
    {
      "cell_type": "code",
      "metadata": {
        "id": "Tdg2kc7mkoVa",
        "outputId": "a61925ab-da2d-47a2-e9c8-7949eb59093e",
        "colab": {
          "base_uri": "https://localhost:8080/"
        }
      },
      "source": [
        "df_xtrain = pd.DataFrame(x_train)\n",
        "df_xtrain.shape"
      ],
      "execution_count": null,
      "outputs": [
        {
          "output_type": "execute_result",
          "data": {
            "text/plain": [
              "(500, 17)"
            ]
          },
          "metadata": {
            "tags": []
          },
          "execution_count": 89
        }
      ]
    },
    {
      "cell_type": "code",
      "metadata": {
        "id": "1-lQEp7Gks6I",
        "outputId": "57f1b02e-cd73-4c7f-86c6-ed5c448605e7",
        "colab": {
          "base_uri": "https://localhost:8080/",
          "height": 327
        }
      },
      "source": [
        "plt.style.use('ggplot')\n",
        "fig, axes = plt.subplots(nrows=1, ncols=2, figsize=(15, 5))\n",
        "axes[0].scatter(df_xtrain.iloc[:,16],df_xtrain.iloc[:,4],c=y_train_pred,cmap='brg')\n",
        "axes[1].scatter(df_xtrain.iloc[:,16],df_xtrain.iloc[:,4],c=y_train,cmap='brg')\n",
        "axes[0].title.set_text(\"Predictions\")\n",
        "axes[1].title.set_text(\"Actual Plot\")\n",
        "fig.tight_layout()"
      ],
      "execution_count": null,
      "outputs": [
        {
          "output_type": "display_data",
          "data": {
            "image/png": "[encoded data removed]",
            "text/plain": [
              "<Figure size 1080x360 with 2 Axes>"
            ]
          },
          "metadata": {
            "tags": []
          }
        }
      ]
    },
    {
      "cell_type": "markdown",
      "metadata": {
        "id": "SXz6SlSozmRw"
      },
      "source": [
        "#For all data PCA"
      ]
    },
    {
      "cell_type": "code",
      "metadata": {
        "id": "h64J4fVVkyh0"
      },
      "source": [
        "pca = PCA(n_components=22) "
      ],
      "execution_count": null,
      "outputs": []
    },
    {
      "cell_type": "code",
      "metadata": {
        "id": "zpPHSWxen1R5"
      },
      "source": [
        "principalComponents100 = pca.fit_transform(scaled_data) \n",
        "principalDf100 = pd.DataFrame(data = principalComponents100)"
      ],
      "execution_count": null,
      "outputs": []
    },
    {
      "cell_type": "code",
      "metadata": {
        "id": "2cUtN541oFKK",
        "outputId": "ba0d7028-7594-4adc-cf47-b7efd8431262",
        "colab": {
          "base_uri": "https://localhost:8080/",
          "height": 309
        }
      },
      "source": [
        "principalDf100.head()"
      ],
      "execution_count": null,
      "outputs": [
        {
          "output_type": "execute_result",
          "data": {
            "text/html": [
              "<div>\n",
              "<style scoped>\n",
              "    .dataframe tbody tr th:only-of-type {\n",
              "        vertical-align: middle;\n",
              "    }\n",
              "\n",
              "    .dataframe tbody tr th {\n",
              "        vertical-align: top;\n",
              "    }\n",
              "\n",
              "    .dataframe thead th {\n",
              "        text-align: right;\n",
              "    }\n",
              "</style>\n",
              "<table border=\"1\" class=\"dataframe\">\n",
              "  <thead>\n",
              "    <tr style=\"text-align: right;\">\n",
              "      <th></th>\n",
              "      <th>0</th>\n",
              "      <th>1</th>\n",
              "      <th>2</th>\n",
              "      <th>3</th>\n",
              "      <th>4</th>\n",
              "      <th>5</th>\n",
              "      <th>6</th>\n",
              "      <th>7</th>\n",
              "      <th>8</th>\n",
              "      <th>9</th>\n",
              "      <th>10</th>\n",
              "      <th>11</th>\n",
              "      <th>12</th>\n",
              "      <th>13</th>\n",
              "      <th>14</th>\n",
              "      <th>15</th>\n",
              "      <th>16</th>\n",
              "      <th>17</th>\n",
              "      <th>18</th>\n",
              "      <th>19</th>\n",
              "      <th>20</th>\n",
              "      <th>21</th>\n",
              "    </tr>\n",
              "  </thead>\n",
              "  <tbody>\n",
              "    <tr>\n",
              "      <th>0</th>\n",
              "      <td>0.854614</td>\n",
              "      <td>1.969390</td>\n",
              "      <td>1.875328</td>\n",
              "      <td>-2.086394</td>\n",
              "      <td>-0.897176</td>\n",
              "      <td>-0.102411</td>\n",
              "      <td>2.159508</td>\n",
              "      <td>-0.673094</td>\n",
              "      <td>0.285484</td>\n",
              "      <td>-0.927800</td>\n",
              "      <td>-0.210439</td>\n",
              "      <td>-0.899122</td>\n",
              "      <td>-0.083104</td>\n",
              "      <td>-1.136037</td>\n",
              "      <td>0.071687</td>\n",
              "      <td>0.271791</td>\n",
              "      <td>0.569828</td>\n",
              "      <td>-0.218647</td>\n",
              "      <td>-0.372470</td>\n",
              "      <td>-0.202201</td>\n",
              "      <td>1.850512e-14</td>\n",
              "      <td>-2.162372e-18</td>\n",
              "    </tr>\n",
              "    <tr>\n",
              "      <th>1</th>\n",
              "      <td>-0.298516</td>\n",
              "      <td>0.235050</td>\n",
              "      <td>-0.510201</td>\n",
              "      <td>1.391119</td>\n",
              "      <td>-0.685964</td>\n",
              "      <td>-1.123168</td>\n",
              "      <td>-0.661280</td>\n",
              "      <td>-2.758892</td>\n",
              "      <td>1.839229</td>\n",
              "      <td>-0.264500</td>\n",
              "      <td>1.648929</td>\n",
              "      <td>0.069608</td>\n",
              "      <td>0.287181</td>\n",
              "      <td>-0.065683</td>\n",
              "      <td>1.415329</td>\n",
              "      <td>-1.575260</td>\n",
              "      <td>-0.030766</td>\n",
              "      <td>0.562229</td>\n",
              "      <td>-0.695081</td>\n",
              "      <td>-0.057049</td>\n",
              "      <td>-1.270889e-15</td>\n",
              "      <td>-1.135290e-18</td>\n",
              "    </tr>\n",
              "    <tr>\n",
              "      <th>2</th>\n",
              "      <td>3.078638</td>\n",
              "      <td>0.761497</td>\n",
              "      <td>-1.656571</td>\n",
              "      <td>-0.993384</td>\n",
              "      <td>-1.891366</td>\n",
              "      <td>2.045309</td>\n",
              "      <td>0.541368</td>\n",
              "      <td>0.335011</td>\n",
              "      <td>-0.256331</td>\n",
              "      <td>0.459911</td>\n",
              "      <td>0.260511</td>\n",
              "      <td>-0.567643</td>\n",
              "      <td>-0.215480</td>\n",
              "      <td>-0.658798</td>\n",
              "      <td>0.588662</td>\n",
              "      <td>-1.167086</td>\n",
              "      <td>-1.145764</td>\n",
              "      <td>1.531393</td>\n",
              "      <td>0.318916</td>\n",
              "      <td>-0.300409</td>\n",
              "      <td>-1.649183e-14</td>\n",
              "      <td>-1.683999e-18</td>\n",
              "    </tr>\n",
              "    <tr>\n",
              "      <th>3</th>\n",
              "      <td>0.453815</td>\n",
              "      <td>1.908074</td>\n",
              "      <td>-0.703945</td>\n",
              "      <td>2.302706</td>\n",
              "      <td>-2.495556</td>\n",
              "      <td>0.838159</td>\n",
              "      <td>2.064699</td>\n",
              "      <td>-0.347785</td>\n",
              "      <td>-0.632114</td>\n",
              "      <td>-0.055184</td>\n",
              "      <td>1.106446</td>\n",
              "      <td>-1.246500</td>\n",
              "      <td>-3.336296</td>\n",
              "      <td>1.141207</td>\n",
              "      <td>-1.556083</td>\n",
              "      <td>1.012140</td>\n",
              "      <td>1.208697</td>\n",
              "      <td>-0.320018</td>\n",
              "      <td>0.164225</td>\n",
              "      <td>-0.346291</td>\n",
              "      <td>-7.084008e-15</td>\n",
              "      <td>-1.895752e-18</td>\n",
              "    </tr>\n",
              "    <tr>\n",
              "      <th>4</th>\n",
              "      <td>-1.979416</td>\n",
              "      <td>-0.640785</td>\n",
              "      <td>1.055068</td>\n",
              "      <td>0.400676</td>\n",
              "      <td>-0.996482</td>\n",
              "      <td>-0.663600</td>\n",
              "      <td>0.127239</td>\n",
              "      <td>-0.564725</td>\n",
              "      <td>0.143183</td>\n",
              "      <td>1.034252</td>\n",
              "      <td>0.701693</td>\n",
              "      <td>0.182970</td>\n",
              "      <td>0.139868</td>\n",
              "      <td>-0.471899</td>\n",
              "      <td>-0.013400</td>\n",
              "      <td>-0.623484</td>\n",
              "      <td>-0.503957</td>\n",
              "      <td>0.391240</td>\n",
              "      <td>-0.215752</td>\n",
              "      <td>-0.111108</td>\n",
              "      <td>3.240374e-15</td>\n",
              "      <td>-3.076069e-18</td>\n",
              "    </tr>\n",
              "  </tbody>\n",
              "</table>\n",
              "</div>"
            ],
            "text/plain": [
              "         0         1         2   ...        19            20            21\n",
              "0  0.854614  1.969390  1.875328  ... -0.202201  1.850512e-14 -2.162372e-18\n",
              "1 -0.298516  0.235050 -0.510201  ... -0.057049 -1.270889e-15 -1.135290e-18\n",
              "2  3.078638  0.761497 -1.656571  ... -0.300409 -1.649183e-14 -1.683999e-18\n",
              "3  0.453815  1.908074 -0.703945  ... -0.346291 -7.084008e-15 -1.895752e-18\n",
              "4 -1.979416 -0.640785  1.055068  ... -0.111108  3.240374e-15 -3.076069e-18\n",
              "\n",
              "[5 rows x 22 columns]"
            ]
          },
          "metadata": {
            "tags": []
          },
          "execution_count": 94
        }
      ]
    },
    {
      "cell_type": "code",
      "metadata": {
        "id": "6jSaSk0docmw"
      },
      "source": [
        "Y = Y.astype(int)\n",
        "Y = Y.reshape(-1)"
      ],
      "execution_count": null,
      "outputs": []
    },
    {
      "cell_type": "code",
      "metadata": {
        "id": "YCvH1LW0ofac"
      },
      "source": [
        "x_train, x_test, y_train, y_test = train_test_split(X,Y,test_size = 0.148)"
      ],
      "execution_count": null,
      "outputs": []
    },
    {
      "cell_type": "code",
      "metadata": {
        "id": "Bem8mzBWor80"
      },
      "source": [
        "scaler = preprocessing.StandardScaler().fit(x_train)\n",
        "x_train = scaler.transform(x_train)\n",
        "scaler = preprocessing.StandardScaler().fit(x_test)\n",
        "x_test = scaler.transform(x_test)"
      ],
      "execution_count": null,
      "outputs": []
    },
    {
      "cell_type": "markdown",
      "metadata": {
        "id": "OUaGC0nVpBI3"
      },
      "source": [
        "###RandomizedSearchCV"
      ]
    },
    {
      "cell_type": "code",
      "metadata": {
        "id": "ssqoArbAo7Bb"
      },
      "source": [
        "from sklearn.model_selection import RandomizedSearchCV# Number of trees in random forest\n",
        "n_estimators = [int(x) for x in np.linspace(start = 500, stop = 2000, num = 10)]\n",
        "# Number of features to consider at every split\n",
        "max_features = ['auto', 'sqrt']\n",
        "# Maximum number of levels in tree\n",
        "max_depth = [int(x) for x in np.linspace(10, 110, num = 11)]\n",
        "max_depth.append(None)\n",
        "# Minimum number of samples required to split a node\n",
        "min_samples_split = [2, 3,5]\n",
        "# Minimum number of samples required at each leaf node\n",
        "min_samples_leaf = [ 2, 3, 4]\n",
        "# Method of selecting samples for training each tree\n",
        "bootstrap = [True, False]# Create the random grid\n",
        "random_grid = {'n_estimators': n_estimators,\n",
        "               'max_features': max_features,\n",
        "               'max_depth': max_depth,\n",
        "               'min_samples_split': min_samples_split,\n",
        "               'min_samples_leaf': min_samples_leaf,\n",
        "               'bootstrap': bootstrap}"
      ],
      "execution_count": null,
      "outputs": []
    },
    {
      "cell_type": "code",
      "metadata": {
        "id": "04zSkAowo_ok",
        "outputId": "9689d227-006e-4b86-ac83-a26d4e212166",
        "colab": {
          "base_uri": "https://localhost:8080/"
        }
      },
      "source": [
        "clf = RandomForestClassifier()\n",
        "rf_rscv = RandomizedSearchCV(estimator=clf,param_distributions = random_grid,n_iter = 100,cv = 5)\n",
        "rf_rscv.fit(x_train,y_train)"
      ],
      "execution_count": null,
      "outputs": [
        {
          "output_type": "execute_result",
          "data": {
            "text/plain": [
              "RandomizedSearchCV(cv=5, error_score=nan,\n",
              "                   estimator=RandomForestClassifier(bootstrap=True,\n",
              "                                                    ccp_alpha=0.0,\n",
              "                                                    class_weight=None,\n",
              "                                                    criterion='gini',\n",
              "                                                    max_depth=None,\n",
              "                                                    max_features='auto',\n",
              "                                                    max_leaf_nodes=None,\n",
              "                                                    max_samples=None,\n",
              "                                                    min_impurity_decrease=0.0,\n",
              "                                                    min_impurity_split=None,\n",
              "                                                    min_samples_leaf=1,\n",
              "                                                    min_samples_split=2,\n",
              "                                                    min_weight_fraction_leaf=0.0,\n",
              "                                                    n_estimators=100,\n",
              "                                                    n_jobs...\n",
              "                   param_distributions={'bootstrap': [True, False],\n",
              "                                        'max_depth': [10, 20, 30, 40, 50, 60,\n",
              "                                                      70, 80, 90, 100, 110,\n",
              "                                                      None],\n",
              "                                        'max_features': ['auto', 'sqrt'],\n",
              "                                        'min_samples_leaf': [2, 3, 4],\n",
              "                                        'min_samples_split': [2, 3, 5],\n",
              "                                        'n_estimators': [500, 666, 833, 1000,\n",
              "                                                         1166, 1333, 1500, 1666,\n",
              "                                                         1833, 2000]},\n",
              "                   pre_dispatch='2*n_jobs', random_state=None, refit=True,\n",
              "                   return_train_score=False, scoring=None, verbose=0)"
            ]
          },
          "metadata": {
            "tags": []
          },
          "execution_count": 99
        }
      ]
    },
    {
      "cell_type": "code",
      "metadata": {
        "id": "yIpeeC2IpKVJ",
        "outputId": "c310f95d-bdf5-413c-f5d9-919b9871c8c5",
        "colab": {
          "base_uri": "https://localhost:8080/"
        }
      },
      "source": [
        "rf_rscv.best_params_"
      ],
      "execution_count": null,
      "outputs": [
        {
          "output_type": "execute_result",
          "data": {
            "text/plain": [
              "{'bootstrap': True,\n",
              " 'max_depth': 100,\n",
              " 'max_features': 'auto',\n",
              " 'min_samples_leaf': 4,\n",
              " 'min_samples_split': 2,\n",
              " 'n_estimators': 1333}"
            ]
          },
          "metadata": {
            "tags": []
          },
          "execution_count": 100
        }
      ]
    },
    {
      "cell_type": "markdown",
      "metadata": {
        "id": "f0f3XPpUtB9o"
      },
      "source": [
        "###Grid search cv"
      ]
    },
    {
      "cell_type": "code",
      "metadata": {
        "id": "P6yqDMVPs5H9",
        "outputId": "11af376c-c004-4137-cc35-83d4e2df0292",
        "colab": {
          "base_uri": "https://localhost:8080/"
        }
      },
      "source": [
        "from sklearn.model_selection import GridSearchCV# Create the parameter grid based on the results of random search \n",
        "param_grid = {\n",
        "    'bootstrap': [True],\n",
        "    'max_depth': [50, 60,70,80],\n",
        "    'max_features': ['auto','sqrt'],\n",
        "    'min_samples_leaf': [2,3,4],\n",
        "    'min_samples_split': [2,3,4],\n",
        "    'n_estimators': [900,1000,1333,1400]\n",
        "}\n",
        "rf = RandomForestClassifier()# Instantiate the grid search model\n",
        "grid_search = GridSearchCV(estimator = rf, param_grid = param_grid, \n",
        "                          cv = 3, n_jobs = -1, verbose = 2)\n",
        "grid_search.fit(x_train,y_train)"
      ],
      "execution_count": null,
      "outputs": [
        {
          "output_type": "stream",
          "text": [
            "Fitting 3 folds for each of 288 candidates, totalling 864 fits\n"
          ],
          "name": "stdout"
        },
        {
          "output_type": "stream",
          "text": [
            "[Parallel(n_jobs=-1)]: Using backend LokyBackend with 2 concurrent workers.\n",
            "[Parallel(n_jobs=-1)]: Done  37 tasks      | elapsed:   59.7s\n",
            "[Parallel(n_jobs=-1)]: Done 158 tasks      | elapsed:  4.1min\n",
            "[Parallel(n_jobs=-1)]: Done 361 tasks      | elapsed:  9.4min\n",
            "[Parallel(n_jobs=-1)]: Done 644 tasks      | elapsed: 16.9min\n",
            "[Parallel(n_jobs=-1)]: Done 864 out of 864 | elapsed: 22.8min finished\n"
          ],
          "name": "stderr"
        },
        {
          "output_type": "execute_result",
          "data": {
            "text/plain": [
              "GridSearchCV(cv=3, error_score=nan,\n",
              "             estimator=RandomForestClassifier(bootstrap=True, ccp_alpha=0.0,\n",
              "                                              class_weight=None,\n",
              "                                              criterion='gini', max_depth=None,\n",
              "                                              max_features='auto',\n",
              "                                              max_leaf_nodes=None,\n",
              "                                              max_samples=None,\n",
              "                                              min_impurity_decrease=0.0,\n",
              "                                              min_impurity_split=None,\n",
              "                                              min_samples_leaf=1,\n",
              "                                              min_samples_split=2,\n",
              "                                              min_weight_fraction_leaf=0.0,\n",
              "                                              n_estimators=100, n_jobs=None,\n",
              "                                              oob_score=False,\n",
              "                                              random_state=None, verbose=0,\n",
              "                                              warm_start=False),\n",
              "             iid='deprecated', n_jobs=-1,\n",
              "             param_grid={'bootstrap': [True], 'max_depth': [50, 60, 70, 80],\n",
              "                         'max_features': ['auto', 'sqrt'],\n",
              "                         'min_samples_leaf': [2, 3, 4],\n",
              "                         'min_samples_split': [2, 3, 4],\n",
              "                         'n_estimators': [900, 1000, 1333, 1400]},\n",
              "             pre_dispatch='2*n_jobs', refit=True, return_train_score=False,\n",
              "             scoring=None, verbose=2)"
            ]
          },
          "metadata": {
            "tags": []
          },
          "execution_count": 101
        }
      ]
    },
    {
      "cell_type": "code",
      "metadata": {
        "id": "luQPKtnGtGTP",
        "outputId": "eaf43a2f-a683-40af-a161-7e329e4c22d8",
        "colab": {
          "base_uri": "https://localhost:8080/"
        }
      },
      "source": [
        "grid_search.best_params_"
      ],
      "execution_count": null,
      "outputs": [
        {
          "output_type": "execute_result",
          "data": {
            "text/plain": [
              "{'bootstrap': True,\n",
              " 'max_depth': 70,\n",
              " 'max_features': 'sqrt',\n",
              " 'min_samples_leaf': 4,\n",
              " 'min_samples_split': 3,\n",
              " 'n_estimators': 1000}"
            ]
          },
          "metadata": {
            "tags": []
          },
          "execution_count": 102
        }
      ]
    },
    {
      "cell_type": "code",
      "metadata": {
        "id": "t2wOw27wykQN",
        "outputId": "b1fc66a3-5c49-4753-82b9-c2f1644ee4cd",
        "colab": {
          "base_uri": "https://localhost:8080/"
        }
      },
      "source": [
        "clf = RandomForestClassifier(n_estimators=1333,bootstrap=True,max_depth=80, max_features='sqrt', min_samples_split= 4, min_samples_leaf=3).fit(x_train,y_train)\n",
        "clf.fit(x_train,y_train)\n",
        "y_predicted = clf.predict(x_test)\n",
        "y_train_pred = clf.predict(x_train)\n",
        "\n",
        "pred_prob = clf.predict_proba(x_test)\n",
        "print(\"Accuracy Test %0.2f\" %(accuracy_score(y_test,y_predicted)*100))\n",
        "print(\"Accuracy Train %0.2f\" %(accuracy_score(y_train,y_train_pred)*100))\n",
        "print(\"ROC-AUC Score %0.2f\" %(roc_auc_score(y_test,pred_prob[:,1])*100))\n",
        "print(\"Recall Score %0.2f\" %(recall_score(y_test,y_predicted)*100))"
      ],
      "execution_count": null,
      "outputs": [
        {
          "output_type": "stream",
          "text": [
            "Accuracy Test 77.01\n",
            "Accuracy Train 94.80\n",
            "ROC-AUC Score 86.89\n",
            "Recall Score 96.72\n"
          ],
          "name": "stdout"
        }
      ]
    },
    {
      "cell_type": "code",
      "metadata": {
        "id": "8Zqam2kxynxC",
        "outputId": "93af4851-912d-4a98-f635-2b1cdef077c2",
        "colab": {
          "base_uri": "https://localhost:8080/"
        }
      },
      "source": [
        "from xgboost import XGBRFClassifier\n",
        "xgb = XGBRFClassifier()\n",
        "xgb.fit(x_train,y_train)\n",
        "y_predicted = xgb.predict(x_test)\n",
        "y_train_pred = xgb.predict(x_train)\n",
        "\n",
        "pred_prob = xgb.predict_proba(x_test)\n",
        "print(\"Accuracy Test %0.2f\" %(accuracy_score(y_test,y_predicted)*100))\n",
        "print(\"Accuracy Train %0.2f\" %(accuracy_score(y_train,y_train_pred)*100))\n",
        "print(\"ROC-AUC Score %0.2f\" %(roc_auc_score(y_test,pred_prob[:,1])*100))\n",
        "print(\"Recall Score %0.2f\" %(recall_score(y_test,y_predicted)*100))"
      ],
      "execution_count": null,
      "outputs": [
        {
          "output_type": "stream",
          "text": [
            "Accuracy Test 81.61\n",
            "Accuracy Train 84.40\n",
            "ROC-AUC Score 85.40\n",
            "Recall Score 95.08\n"
          ],
          "name": "stdout"
        }
      ]
    },
    {
      "cell_type": "code",
      "metadata": {
        "id": "emS3CPG1yug4",
        "outputId": "b0aa542b-f43e-41fa-ef1a-90e8ac288764",
        "colab": {
          "base_uri": "https://localhost:8080/"
        }
      },
      "source": [
        "from lightgbm import LGBMClassifier\n",
        "lgb = LGBMClassifier()\n",
        "lgb.fit(x_train,y_train)\n",
        "y_predicted = lgb.predict(x_test)\n",
        "y_train_pred = lgb.predict(x_train)\n",
        "\n",
        "pred_prob = xgb.predict_proba(x_test)\n",
        "print(\"Accuracy Test %0.2f\" %(accuracy_score(y_test,y_predicted)*100))\n",
        "print(\"Accuracy Train %0.2f\" %(accuracy_score(y_train,y_train_pred)*100))\n",
        "print(\"ROC-AUC Score %0.2f\" %(roc_auc_score(y_test,pred_prob[:,1])*100))\n",
        "print(\"Recall Score %0.2f\" %(recall_score(y_test,y_predicted)*100))\n"
      ],
      "execution_count": null,
      "outputs": [
        {
          "output_type": "stream",
          "text": [
            "Accuracy Test 79.31\n",
            "Accuracy Train 100.00\n",
            "ROC-AUC Score 85.40\n",
            "Recall Score 91.80\n"
          ],
          "name": "stdout"
        }
      ]
    },
    {
      "cell_type": "code",
      "metadata": {
        "id": "sNfXPgHAy1Rr"
      },
      "source": [
        "from catboost import CatBoostClassifier\n",
        "cgb = CatBoostClassifier(iterations=10000)\n",
        "cgb.fit(x_train,y_train)\n",
        "y_predicted = cgb.predict(x_test)\n",
        "y_train_pred = cgb.predict(x_train)"
      ],
      "execution_count": null,
      "outputs": []
    },
    {
      "cell_type": "code",
      "metadata": {
        "id": "GZ_ZuBkOy5q0",
        "outputId": "4e2ba506-a26a-4f6a-ada0-db99a98eb5c4",
        "colab": {
          "base_uri": "https://localhost:8080/"
        }
      },
      "source": [
        "pred_prob = cgb.predict_proba(x_test)\n",
        "print(\"Accuracy Test %0.2f\" %(accuracy_score(y_test,y_predicted)*100))\n",
        "print(\"Accuracy Train %0.2f\" %(accuracy_score(y_train,y_train_pred)*100))\n",
        "print(\"ROC-AUC Score %0.2f\" %(roc_auc_score(y_test,pred_prob[:,1])*100))\n",
        "print(\"Recall Score %0.2f\" %(recall_score(y_test,y_predicted)*100))"
      ],
      "execution_count": null,
      "outputs": [
        {
          "output_type": "stream",
          "text": [
            "Accuracy Test 81.61\n",
            "Accuracy Train 98.80\n",
            "ROC-AUC Score 89.60\n",
            "Recall Score 93.44\n"
          ],
          "name": "stdout"
        }
      ]
    },
    {
      "cell_type": "code",
      "metadata": {
        "id": "Vci7WtYlzFpI",
        "outputId": "e5e0dc42-f257-47c6-ea50-b29884b871d5",
        "colab": {
          "base_uri": "https://localhost:8080/"
        }
      },
      "source": [
        "df_xtrain = pd.DataFrame(x_train)\n",
        "df_xtrain.shape"
      ],
      "execution_count": null,
      "outputs": [
        {
          "output_type": "execute_result",
          "data": {
            "text/plain": [
              "(500, 22)"
            ]
          },
          "metadata": {
            "tags": []
          },
          "execution_count": 108
        }
      ]
    },
    {
      "cell_type": "code",
      "metadata": {
        "id": "mYxzECbAzOaV",
        "outputId": "17e7220d-4f3b-4e33-99b2-51167722fb0d",
        "colab": {
          "base_uri": "https://localhost:8080/",
          "height": 327
        }
      },
      "source": [
        "plt.style.use('ggplot')\n",
        "fig, axes = plt.subplots(nrows=1, ncols=2, figsize=(15, 5))\n",
        "axes[0].scatter(df_xtrain.iloc[:,16],df_xtrain.iloc[:,4],c=y_train_pred,cmap='brg')\n",
        "axes[1].scatter(df_xtrain.iloc[:,16],df_xtrain.iloc[:,4],c=y_train,cmap='brg')\n",
        "axes[0].title.set_text(\"Predictions\")\n",
        "axes[1].title.set_text(\"Actual Plot\")\n",
        "fig.tight_layout()"
      ],
      "execution_count": null,
      "outputs": [
        {
          "output_type": "display_data",
          "data": {
            "image/png": "[encoded data removed]",
            "text/plain": [
              "<Figure size 1080x360 with 2 Axes>"
            ]
          },
          "metadata": {
            "tags": []
          }
        }
      ]
    },
    {
      "cell_type": "code",
      "metadata": {
        "id": "-Kwe00BozWmJ"
      },
      "source": [
        ""
      ],
      "execution_count": null,
      "outputs": []
    },
    {
      "cell_type": "markdown",
      "metadata": {
        "id": "30w31zIgFUYG"
      },
      "source": [
        "# For 98% varied data --> 18 pca"
      ]
    },
    {
      "cell_type": "code",
      "metadata": {
        "id": "CmvZy4ZXFxJz"
      },
      "source": [
        "pca = PCA(n_components=.98)"
      ],
      "execution_count": null,
      "outputs": []
    },
    {
      "cell_type": "code",
      "metadata": {
        "id": "_V1_iXnFF6MU"
      },
      "source": [
        "principalComponents98 = pca.fit_transform(scaled_data) \n",
        "principalDf98 = pd.DataFrame(data = principalComponents98)"
      ],
      "execution_count": null,
      "outputs": []
    },
    {
      "cell_type": "code",
      "metadata": {
        "id": "H749fVGYGK0M",
        "outputId": "cc48a85d-9b93-401d-c687-a3c03e2f44e8",
        "colab": {
          "base_uri": "https://localhost:8080/",
          "height": 224
        }
      },
      "source": [
        "principalDf98.head()"
      ],
      "execution_count": null,
      "outputs": [
        {
          "output_type": "execute_result",
          "data": {
            "text/html": [
              "<div>\n",
              "<style scoped>\n",
              "    .dataframe tbody tr th:only-of-type {\n",
              "        vertical-align: middle;\n",
              "    }\n",
              "\n",
              "    .dataframe tbody tr th {\n",
              "        vertical-align: top;\n",
              "    }\n",
              "\n",
              "    .dataframe thead th {\n",
              "        text-align: right;\n",
              "    }\n",
              "</style>\n",
              "<table border=\"1\" class=\"dataframe\">\n",
              "  <thead>\n",
              "    <tr style=\"text-align: right;\">\n",
              "      <th></th>\n",
              "      <th>0</th>\n",
              "      <th>1</th>\n",
              "      <th>2</th>\n",
              "      <th>3</th>\n",
              "      <th>4</th>\n",
              "      <th>5</th>\n",
              "      <th>6</th>\n",
              "      <th>7</th>\n",
              "      <th>8</th>\n",
              "      <th>9</th>\n",
              "      <th>10</th>\n",
              "      <th>11</th>\n",
              "      <th>12</th>\n",
              "      <th>13</th>\n",
              "      <th>14</th>\n",
              "      <th>15</th>\n",
              "      <th>16</th>\n",
              "      <th>17</th>\n",
              "    </tr>\n",
              "  </thead>\n",
              "  <tbody>\n",
              "    <tr>\n",
              "      <th>0</th>\n",
              "      <td>0.854614</td>\n",
              "      <td>1.969390</td>\n",
              "      <td>1.875328</td>\n",
              "      <td>-2.086394</td>\n",
              "      <td>-0.897176</td>\n",
              "      <td>-0.102411</td>\n",
              "      <td>2.159508</td>\n",
              "      <td>-0.673094</td>\n",
              "      <td>0.285484</td>\n",
              "      <td>-0.927800</td>\n",
              "      <td>-0.210439</td>\n",
              "      <td>-0.899122</td>\n",
              "      <td>-0.083104</td>\n",
              "      <td>-1.136037</td>\n",
              "      <td>0.071687</td>\n",
              "      <td>0.271791</td>\n",
              "      <td>0.569828</td>\n",
              "      <td>-0.218647</td>\n",
              "    </tr>\n",
              "    <tr>\n",
              "      <th>1</th>\n",
              "      <td>-0.298516</td>\n",
              "      <td>0.235050</td>\n",
              "      <td>-0.510201</td>\n",
              "      <td>1.391119</td>\n",
              "      <td>-0.685964</td>\n",
              "      <td>-1.123168</td>\n",
              "      <td>-0.661280</td>\n",
              "      <td>-2.758892</td>\n",
              "      <td>1.839229</td>\n",
              "      <td>-0.264500</td>\n",
              "      <td>1.648929</td>\n",
              "      <td>0.069608</td>\n",
              "      <td>0.287181</td>\n",
              "      <td>-0.065683</td>\n",
              "      <td>1.415329</td>\n",
              "      <td>-1.575260</td>\n",
              "      <td>-0.030766</td>\n",
              "      <td>0.562229</td>\n",
              "    </tr>\n",
              "    <tr>\n",
              "      <th>2</th>\n",
              "      <td>3.078638</td>\n",
              "      <td>0.761497</td>\n",
              "      <td>-1.656571</td>\n",
              "      <td>-0.993384</td>\n",
              "      <td>-1.891366</td>\n",
              "      <td>2.045309</td>\n",
              "      <td>0.541368</td>\n",
              "      <td>0.335011</td>\n",
              "      <td>-0.256331</td>\n",
              "      <td>0.459911</td>\n",
              "      <td>0.260511</td>\n",
              "      <td>-0.567643</td>\n",
              "      <td>-0.215480</td>\n",
              "      <td>-0.658798</td>\n",
              "      <td>0.588662</td>\n",
              "      <td>-1.167086</td>\n",
              "      <td>-1.145764</td>\n",
              "      <td>1.531393</td>\n",
              "    </tr>\n",
              "    <tr>\n",
              "      <th>3</th>\n",
              "      <td>0.453815</td>\n",
              "      <td>1.908074</td>\n",
              "      <td>-0.703945</td>\n",
              "      <td>2.302706</td>\n",
              "      <td>-2.495556</td>\n",
              "      <td>0.838159</td>\n",
              "      <td>2.064699</td>\n",
              "      <td>-0.347785</td>\n",
              "      <td>-0.632114</td>\n",
              "      <td>-0.055184</td>\n",
              "      <td>1.106446</td>\n",
              "      <td>-1.246500</td>\n",
              "      <td>-3.336296</td>\n",
              "      <td>1.141207</td>\n",
              "      <td>-1.556083</td>\n",
              "      <td>1.012140</td>\n",
              "      <td>1.208697</td>\n",
              "      <td>-0.320018</td>\n",
              "    </tr>\n",
              "    <tr>\n",
              "      <th>4</th>\n",
              "      <td>-1.979416</td>\n",
              "      <td>-0.640785</td>\n",
              "      <td>1.055068</td>\n",
              "      <td>0.400676</td>\n",
              "      <td>-0.996482</td>\n",
              "      <td>-0.663600</td>\n",
              "      <td>0.127239</td>\n",
              "      <td>-0.564725</td>\n",
              "      <td>0.143183</td>\n",
              "      <td>1.034252</td>\n",
              "      <td>0.701693</td>\n",
              "      <td>0.182970</td>\n",
              "      <td>0.139868</td>\n",
              "      <td>-0.471899</td>\n",
              "      <td>-0.013400</td>\n",
              "      <td>-0.623484</td>\n",
              "      <td>-0.503957</td>\n",
              "      <td>0.391240</td>\n",
              "    </tr>\n",
              "  </tbody>\n",
              "</table>\n",
              "</div>"
            ],
            "text/plain": [
              "         0         1         2   ...        15        16        17\n",
              "0  0.854614  1.969390  1.875328  ...  0.271791  0.569828 -0.218647\n",
              "1 -0.298516  0.235050 -0.510201  ... -1.575260 -0.030766  0.562229\n",
              "2  3.078638  0.761497 -1.656571  ... -1.167086 -1.145764  1.531393\n",
              "3  0.453815  1.908074 -0.703945  ...  1.012140  1.208697 -0.320018\n",
              "4 -1.979416 -0.640785  1.055068  ... -0.623484 -0.503957  0.391240\n",
              "\n",
              "[5 rows x 18 columns]"
            ]
          },
          "metadata": {
            "tags": []
          },
          "execution_count": 15
        }
      ]
    },
    {
      "cell_type": "code",
      "metadata": {
        "id": "PRtepGZiGRnR"
      },
      "source": [
        "Y = Y.astype(int)\n",
        "Y = Y.reshape(-1)"
      ],
      "execution_count": null,
      "outputs": []
    },
    {
      "cell_type": "code",
      "metadata": {
        "id": "CnjETq8VGbKK"
      },
      "source": [
        "x_train, x_test, y_train, y_test = train_test_split(principalDf98,Y,test_size = 0.148)"
      ],
      "execution_count": null,
      "outputs": []
    },
    {
      "cell_type": "code",
      "metadata": {
        "id": "4A0FYPh8GhWq"
      },
      "source": [
        "scaler = preprocessing.StandardScaler().fit(x_train)\n",
        "x_train = scaler.transform(x_train)\n",
        "scaler = preprocessing.StandardScaler().fit(x_test)\n",
        "x_test = scaler.transform(x_test)"
      ],
      "execution_count": null,
      "outputs": []
    },
    {
      "cell_type": "markdown",
      "metadata": {
        "id": "WWjdjh7OG4F2"
      },
      "source": [
        "###Randomized search cv"
      ]
    },
    {
      "cell_type": "code",
      "metadata": {
        "id": "ulHOVKt-GyUj"
      },
      "source": [
        "from sklearn.model_selection import RandomizedSearchCV# Number of trees in random forest\n",
        "n_estimators = [int(x) for x in np.linspace(start = 500, stop = 2000, num = 10)]\n",
        "# Number of features to consider at every split\n",
        "max_features = ['auto', 'sqrt']\n",
        "# Maximum number of levels in tree\n",
        "max_depth = [int(x) for x in np.linspace(10, 110, num = 11)]\n",
        "max_depth.append(None)\n",
        "# Minimum number of samples required to split a node\n",
        "min_samples_split = [2, 3,5]\n",
        "# Minimum number of samples required at each leaf node\n",
        "min_samples_leaf = [ 2, 3, 4]\n",
        "# Method of selecting samples for training each tree\n",
        "bootstrap = [True, False]# Create the random grid\n",
        "random_grid = {'n_estimators': n_estimators,\n",
        "               'max_features': max_features,\n",
        "               'max_depth': max_depth,\n",
        "               'min_samples_split': min_samples_split,\n",
        "               'min_samples_leaf': min_samples_leaf,\n",
        "               'bootstrap': bootstrap}"
      ],
      "execution_count": null,
      "outputs": []
    },
    {
      "cell_type": "code",
      "metadata": {
        "id": "xrkNrbjGG21M",
        "outputId": "937856a1-0b1c-4b35-87a0-fb858d0ac811",
        "colab": {
          "base_uri": "https://localhost:8080/"
        }
      },
      "source": [
        "clf = RandomForestClassifier()\n",
        "rf_rscv = RandomizedSearchCV(estimator=clf,param_distributions = random_grid,n_iter = 100,cv = 5)\n",
        "rf_rscv.fit(x_train,y_train)"
      ],
      "execution_count": null,
      "outputs": [
        {
          "output_type": "execute_result",
          "data": {
            "text/plain": [
              "RandomizedSearchCV(cv=5, error_score=nan,\n",
              "                   estimator=RandomForestClassifier(bootstrap=True,\n",
              "                                                    ccp_alpha=0.0,\n",
              "                                                    class_weight=None,\n",
              "                                                    criterion='gini',\n",
              "                                                    max_depth=None,\n",
              "                                                    max_features='auto',\n",
              "                                                    max_leaf_nodes=None,\n",
              "                                                    max_samples=None,\n",
              "                                                    min_impurity_decrease=0.0,\n",
              "                                                    min_impurity_split=None,\n",
              "                                                    min_samples_leaf=1,\n",
              "                                                    min_samples_split=2,\n",
              "                                                    min_weight_fraction_leaf=0.0,\n",
              "                                                    n_estimators=100,\n",
              "                                                    n_jobs...\n",
              "                   param_distributions={'bootstrap': [True, False],\n",
              "                                        'max_depth': [10, 20, 30, 40, 50, 60,\n",
              "                                                      70, 80, 90, 100, 110,\n",
              "                                                      None],\n",
              "                                        'max_features': ['auto', 'sqrt'],\n",
              "                                        'min_samples_leaf': [2, 3, 4],\n",
              "                                        'min_samples_split': [2, 3, 5],\n",
              "                                        'n_estimators': [500, 666, 833, 1000,\n",
              "                                                         1166, 1333, 1500, 1666,\n",
              "                                                         1833, 2000]},\n",
              "                   pre_dispatch='2*n_jobs', random_state=None, refit=True,\n",
              "                   return_train_score=False, scoring=None, verbose=0)"
            ]
          },
          "metadata": {
            "tags": []
          },
          "execution_count": 20
        }
      ]
    },
    {
      "cell_type": "code",
      "metadata": {
        "id": "jkoV2xSxHC1F",
        "outputId": "ec62af1d-98b1-43fd-ccd4-e285453f6070",
        "colab": {
          "base_uri": "https://localhost:8080/"
        }
      },
      "source": [
        "rf_rscv.best_params_"
      ],
      "execution_count": null,
      "outputs": [
        {
          "output_type": "execute_result",
          "data": {
            "text/plain": [
              "{'bootstrap': True,\n",
              " 'max_depth': 110,\n",
              " 'max_features': 'sqrt',\n",
              " 'min_samples_leaf': 2,\n",
              " 'min_samples_split': 5,\n",
              " 'n_estimators': 1833}"
            ]
          },
          "metadata": {
            "tags": []
          },
          "execution_count": 21
        }
      ]
    },
    {
      "cell_type": "markdown",
      "metadata": {
        "id": "FWbKxbMcL8kc"
      },
      "source": [
        "### Grid search cv"
      ]
    },
    {
      "cell_type": "code",
      "metadata": {
        "id": "5OaznR2UL3AB",
        "outputId": "da9e559a-42cc-4a6b-acd8-e1edcc603f59",
        "colab": {
          "base_uri": "https://localhost:8080/"
        }
      },
      "source": [
        "from sklearn.model_selection import GridSearchCV# Create the parameter grid based on the results of random search \n",
        "param_grid = {\n",
        "    'bootstrap': [True],\n",
        "    'max_depth': [50, 60,70,80],\n",
        "    'max_features': ['auto','sqrt'],\n",
        "    'min_samples_leaf': [2,3,4],\n",
        "    'min_samples_split': [2,3,4],\n",
        "    'n_estimators': [900,1000,1333,1400]\n",
        "}\n",
        "rf = RandomForestClassifier()# Instantiate the grid search model\n",
        "grid_search = GridSearchCV(estimator = rf, param_grid = param_grid, \n",
        "                          cv = 3, n_jobs = -1, verbose = 2)\n",
        "grid_search.fit(x_train,y_train)"
      ],
      "execution_count": null,
      "outputs": [
        {
          "output_type": "stream",
          "text": [
            "Fitting 3 folds for each of 288 candidates, totalling 864 fits\n"
          ],
          "name": "stdout"
        },
        {
          "output_type": "stream",
          "text": [
            "[Parallel(n_jobs=-1)]: Using backend LokyBackend with 2 concurrent workers.\n",
            "[Parallel(n_jobs=-1)]: Done  37 tasks      | elapsed:  1.1min\n",
            "[Parallel(n_jobs=-1)]: Done 158 tasks      | elapsed:  4.5min\n",
            "[Parallel(n_jobs=-1)]: Done 361 tasks      | elapsed: 10.3min\n",
            "[Parallel(n_jobs=-1)]: Done 644 tasks      | elapsed: 18.3min\n",
            "[Parallel(n_jobs=-1)]: Done 864 out of 864 | elapsed: 24.7min finished\n"
          ],
          "name": "stderr"
        },
        {
          "output_type": "execute_result",
          "data": {
            "text/plain": [
              "GridSearchCV(cv=3, error_score=nan,\n",
              "             estimator=RandomForestClassifier(bootstrap=True, ccp_alpha=0.0,\n",
              "                                              class_weight=None,\n",
              "                                              criterion='gini', max_depth=None,\n",
              "                                              max_features='auto',\n",
              "                                              max_leaf_nodes=None,\n",
              "                                              max_samples=None,\n",
              "                                              min_impurity_decrease=0.0,\n",
              "                                              min_impurity_split=None,\n",
              "                                              min_samples_leaf=1,\n",
              "                                              min_samples_split=2,\n",
              "                                              min_weight_fraction_leaf=0.0,\n",
              "                                              n_estimators=100, n_jobs=None,\n",
              "                                              oob_score=False,\n",
              "                                              random_state=None, verbose=0,\n",
              "                                              warm_start=False),\n",
              "             iid='deprecated', n_jobs=-1,\n",
              "             param_grid={'bootstrap': [True], 'max_depth': [50, 60, 70, 80],\n",
              "                         'max_features': ['auto', 'sqrt'],\n",
              "                         'min_samples_leaf': [2, 3, 4],\n",
              "                         'min_samples_split': [2, 3, 4],\n",
              "                         'n_estimators': [900, 1000, 1333, 1400]},\n",
              "             pre_dispatch='2*n_jobs', refit=True, return_train_score=False,\n",
              "             scoring=None, verbose=2)"
            ]
          },
          "metadata": {
            "tags": []
          },
          "execution_count": 22
        }
      ]
    },
    {
      "cell_type": "code",
      "metadata": {
        "id": "ZRHasyAMMBK9",
        "outputId": "df4763af-2398-4df6-c86e-c7e374033bea",
        "colab": {
          "base_uri": "https://localhost:8080/"
        }
      },
      "source": [
        "grid_search.best_params_"
      ],
      "execution_count": null,
      "outputs": [
        {
          "output_type": "execute_result",
          "data": {
            "text/plain": [
              "{'bootstrap': True,\n",
              " 'max_depth': 80,\n",
              " 'max_features': 'auto',\n",
              " 'min_samples_leaf': 4,\n",
              " 'min_samples_split': 2,\n",
              " 'n_estimators': 900}"
            ]
          },
          "metadata": {
            "tags": []
          },
          "execution_count": 23
        }
      ]
    },
    {
      "cell_type": "code",
      "metadata": {
        "id": "6V7FzSyvR4lt",
        "outputId": "6e64479e-2e86-4fb8-a447-100a1ba44b34",
        "colab": {
          "base_uri": "https://localhost:8080/"
        }
      },
      "source": [
        "clf = RandomForestClassifier(n_estimators=1333,bootstrap=True,max_depth=80, max_features='sqrt', min_samples_split= 4, min_samples_leaf=3).fit(x_train,y_train)\n",
        "clf.fit(x_train,y_train)\n",
        "y_predicted = clf.predict(x_test)\n",
        "y_train_pred = clf.predict(x_train)\n",
        "\n",
        "pred_prob = clf.predict_proba(x_test)\n",
        "print(\"Accuracy Test %0.2f\" %(accuracy_score(y_test,y_predicted)*100))\n",
        "print(\"Accuracy Train %0.2f\" %(accuracy_score(y_train,y_train_pred)*100))\n",
        "print(\"ROC-AUC Score %0.2f\" %(roc_auc_score(y_test,pred_prob[:,1])*100))\n",
        "print(\"Recall Score %0.2f\" %(recall_score(y_test,y_predicted)*100))"
      ],
      "execution_count": null,
      "outputs": [
        {
          "output_type": "stream",
          "text": [
            "Accuracy Test 85.06\n",
            "Accuracy Train 97.60\n",
            "ROC-AUC Score 89.09\n",
            "Recall Score 95.59\n"
          ],
          "name": "stdout"
        }
      ]
    },
    {
      "cell_type": "code",
      "metadata": {
        "id": "cd_dWRa4R8KB",
        "outputId": "76b10265-a1e0-4cb9-c5b8-79851f5a54c4",
        "colab": {
          "base_uri": "https://localhost:8080/"
        }
      },
      "source": [
        "from xgboost import XGBRFClassifier\n",
        "xgb = XGBRFClassifier()\n",
        "xgb.fit(x_train,y_train)\n",
        "y_predicted = xgb.predict(x_test)\n",
        "y_train_pred = xgb.predict(x_train)\n",
        "\n",
        "pred_prob = xgb.predict_proba(x_test)\n",
        "print(\"Accuracy Test %0.2f\" %(accuracy_score(y_test,y_predicted)*100))\n",
        "print(\"Accuracy Train %0.2f\" %(accuracy_score(y_train,y_train_pred)*100))\n",
        "print(\"ROC-AUC Score %0.2f\" %(roc_auc_score(y_test,pred_prob[:,1])*100))\n",
        "print(\"Recall Score %0.2f\" %(recall_score(y_test,y_predicted)*100))"
      ],
      "execution_count": null,
      "outputs": [
        {
          "output_type": "stream",
          "text": [
            "Accuracy Test 85.06\n",
            "Accuracy Train 86.80\n",
            "ROC-AUC Score 84.44\n",
            "Recall Score 94.12\n"
          ],
          "name": "stdout"
        }
      ]
    },
    {
      "cell_type": "code",
      "metadata": {
        "id": "nAgTnibASLDw",
        "outputId": "2c8167fa-55f7-441b-bfd7-5ed2aa1461f5",
        "colab": {
          "base_uri": "https://localhost:8080/"
        }
      },
      "source": [
        "from lightgbm import LGBMClassifier\n",
        "lgb = LGBMClassifier()\n",
        "lgb.fit(x_train,y_train)\n",
        "y_predicted = lgb.predict(x_test)\n",
        "y_train_pred = lgb.predict(x_train)\n",
        "\n",
        "pred_prob = xgb.predict_proba(x_test)\n",
        "print(\"Accuracy Test %0.2f\" %(accuracy_score(y_test,y_predicted)*100))\n",
        "print(\"Accuracy Train %0.2f\" %(accuracy_score(y_train,y_train_pred)*100))\n",
        "print(\"ROC-AUC Score %0.2f\" %(roc_auc_score(y_test,pred_prob[:,1])*100))\n",
        "print(\"Recall Score %0.2f\" %(recall_score(y_test,y_predicted)*100))"
      ],
      "execution_count": null,
      "outputs": [
        {
          "output_type": "stream",
          "text": [
            "Accuracy Test 82.76\n",
            "Accuracy Train 100.00\n",
            "ROC-AUC Score 84.44\n",
            "Recall Score 92.65\n"
          ],
          "name": "stdout"
        }
      ]
    },
    {
      "cell_type": "code",
      "metadata": {
        "id": "GA5_LNwHSQsR"
      },
      "source": [
        "!pip install catboost"
      ],
      "execution_count": null,
      "outputs": []
    },
    {
      "cell_type": "code",
      "metadata": {
        "id": "Dw39R9SXSWyQ"
      },
      "source": [
        "from catboost import CatBoostClassifier\n",
        "cgb = CatBoostClassifier(iterations=10000)\n",
        "cgb.fit(x_train,y_train)\n",
        "y_predicted = cgb.predict(x_test)\n",
        "y_train_pred = cgb.predict(x_train)"
      ],
      "execution_count": null,
      "outputs": []
    },
    {
      "cell_type": "code",
      "metadata": {
        "id": "_6mk0PeVScO6",
        "outputId": "216dca20-8d29-4d95-ce4e-573bc3786df8",
        "colab": {
          "base_uri": "https://localhost:8080/"
        }
      },
      "source": [
        "pred_prob = cgb.predict_proba(x_test)\n",
        "print(\"Accuracy Test %0.2f\" %(accuracy_score(y_test,y_predicted)*100))\n",
        "print(\"Accuracy Train %0.2f\" %(accuracy_score(y_train,y_train_pred)*100))\n",
        "print(\"ROC-AUC Score %0.2f\" %(roc_auc_score(y_test,pred_prob[:,1])*100))\n",
        "print(\"Recall Score %0.2f\" %(recall_score(y_test,y_predicted)*100))"
      ],
      "execution_count": null,
      "outputs": [
        {
          "output_type": "stream",
          "text": [
            "Accuracy Test 85.06\n",
            "Accuracy Train 100.00\n",
            "ROC-AUC Score 86.92\n",
            "Recall Score 94.12\n"
          ],
          "name": "stdout"
        }
      ]
    },
    {
      "cell_type": "code",
      "metadata": {
        "id": "1nQbrrw8S3SX",
        "outputId": "fdacd861-b20b-4c2e-c4f1-dc003aee2756",
        "colab": {
          "base_uri": "https://localhost:8080/"
        }
      },
      "source": [
        "df_xtrain = pd.DataFrame(x_train)\n",
        "df_xtrain.shape"
      ],
      "execution_count": null,
      "outputs": [
        {
          "output_type": "execute_result",
          "data": {
            "text/plain": [
              "(500, 18)"
            ]
          },
          "metadata": {
            "tags": []
          },
          "execution_count": 30
        }
      ]
    },
    {
      "cell_type": "code",
      "metadata": {
        "id": "qgJl6EVmS-EC",
        "outputId": "693d9f0e-1cf6-4a74-fce4-e2af7f3ecc57",
        "colab": {
          "base_uri": "https://localhost:8080/",
          "height": 369
        }
      },
      "source": [
        "plt.style.use('ggplot')\n",
        "fig, axes = plt.subplots(nrows=1, ncols=2, figsize=(15, 5))\n",
        "axes[0].scatter(df_xtrain.iloc[:,17],df_xtrain.iloc[:,4],c=y_train_pred,cmap='brg')\n",
        "axes[1].scatter(df_xtrain.iloc[:,17],df_xtrain.iloc[:,4],c=y_train,cmap='brg')\n",
        "axes[0].title.set_text(\"Predictions\")\n",
        "axes[1].title.set_text(\"Actual Plot\")\n",
        "fig.tight_layout()"
      ],
      "execution_count": null,
      "outputs": [
        {
          "output_type": "display_data",
          "data": {
            "image/png": "[encoded data removed]",
            "text/plain": [
              "<Figure size 1080x360 with 2 Axes>"
            ]
          },
          "metadata": {
            "tags": []
          }
        }
      ]
    }
  ]
}